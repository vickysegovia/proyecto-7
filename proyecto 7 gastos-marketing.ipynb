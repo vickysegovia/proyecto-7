{
 "cells": [
  {
   "cell_type": "markdown",
   "metadata": {},
   "source": [
    "# Contenido.\n",
    "1. Introducción\n",
    "2. Descarga y preparación de datos.\n",
    "    - 2.1 Importacion de datos.\n",
    "    - 2.2 Exploracion de datos.\n",
    "    - 2.3 Enriquecer los datos.\n",
    "3. Informes y métricas de los productos.\n",
    "    - 3.1 ¿Cuántas personas lo usan cada dia, semana y mes?\n",
    "    - 3.2 ¿Cuántas sesiones hay por dia, por semana y por mes?\n",
    "    - 3.3 ¿Cuál es la duración de cada sesión?\n",
    "    - 3.4 ¿Con qué frecuencia los usuarios regresan?\n",
    "4. Informes y métricas de las ventas.\n",
    "    - 4.1 ¿Cuándo la gente empieza a comprar?\n",
    "    - 4.2 ¿cuántos pedidos hacen durante un periodo de tiempo dado?\n",
    "    - 4.3 ¿Cuál es el tamaño promedio de compra?\n",
    "    - 4.4 ¿Cuánto dinero traen? (ltv)\n",
    "5. Informes y métricas de marketing\n",
    "    - 5.1 ¿Cuánto dinero se gasto?\n",
    "    - 5.2 ¿Cuánto costó la adquisición de clientes de cada una de las fuentes?.\n",
    "    - 5.3 ¿Cuán rentables erán las inversiones? (ROMI)\n",
    "6. Conclusión\n",
    "    \n",
    "    "
   ]
  },
  {
   "cell_type": "markdown",
   "metadata": {},
   "source": [
    "## Introducción."
   ]
  },
  {
   "cell_type": "markdown",
   "metadata": {},
   "source": [
    "Estamos trabajando para Y.Afisha, que es una empresa que ayuda a usuarios a enconrar y comprar billetes para eventos de entretención y nuestro objetivo con este proyecto es optimizar los gastos de marketing, para ello vamos a investigar: como la gente usa el producto, cuándo empiezan a comprar, cuánto dinero trae cada cliente y como pagan. analizando las métricas de negocio de la aplicacion."
   ]
  },
  {
   "cell_type": "markdown",
   "metadata": {},
   "source": [
    "## Descarga y preparación de datos."
   ]
  },
  {
   "cell_type": "markdown",
   "metadata": {},
   "source": [
    "### Importacion de datos.\n"
   ]
  },
  {
   "cell_type": "code",
   "execution_count": 109,
   "metadata": {},
   "outputs": [],
   "source": [
    "# Cargaremos las librerias necesarias.\n",
    "import pandas as pd \n",
    "import math\n",
    "import numpy as np\n",
    "import seaborn as sns\n",
    "import matplotlib.pyplot as plt\n",
    "from scipy import stats as st\n",
    "from datetime import datetime"
   ]
  },
  {
   "cell_type": "markdown",
   "metadata": {},
   "source": [
    "### Exploración de datos."
   ]
  },
  {
   "cell_type": "code",
   "execution_count": 110,
   "metadata": {},
   "outputs": [],
   "source": [
    "# carga de datos de la primera tabla.\n",
    "visits_data = pd.read_csv('/datasets/visits_log_us.csv', dtype={'Device': 'category'}, parse_dates=['Start Ts', 'End Ts'])"
   ]
  },
  {
   "cell_type": "code",
   "execution_count": 111,
   "metadata": {},
   "outputs": [
    {
     "name": "stdout",
     "output_type": "stream",
     "text": [
      "<class 'pandas.core.frame.DataFrame'>\n",
      "RangeIndex: 359400 entries, 0 to 359399\n",
      "Data columns (total 5 columns):\n",
      " #   Column     Non-Null Count   Dtype         \n",
      "---  ------     --------------   -----         \n",
      " 0   Device     359400 non-null  category      \n",
      " 1   End Ts     359400 non-null  datetime64[ns]\n",
      " 2   Source Id  359400 non-null  int64         \n",
      " 3   Start Ts   359400 non-null  datetime64[ns]\n",
      " 4   Uid        359400 non-null  uint64        \n",
      "dtypes: category(1), datetime64[ns](2), int64(1), uint64(1)\n",
      "memory usage: 11.3 MB\n",
      "\n",
      "Datos duplicados: 0\n"
     ]
    }
   ],
   "source": [
    "# Vamos a revisar la información de nuestra primer tabla y si contiene datos duplicados.\n",
    "visits_data.info()\n",
    "print()\n",
    "print(f'Datos duplicados: {visits_data.duplicated().sum()}')"
   ]
  },
  {
   "cell_type": "code",
   "execution_count": 112,
   "metadata": {},
   "outputs": [],
   "source": [
    "# Renombraremos las columnas.\n",
    "visits_data = visits_data.rename(\n",
    "    columns={'Device': 'device',\n",
    "             'End Ts': 'end_ts',\n",
    "             'Source Id': 'source_id',\n",
    "             'Start Ts': 'start_ts',\n",
    "             'Uid':'uid'})"
   ]
  },
  {
   "cell_type": "code",
   "execution_count": 113,
   "metadata": {},
   "outputs": [
    {
     "data": {
      "text/html": [
       "<div>\n",
       "<style scoped>\n",
       "    .dataframe tbody tr th:only-of-type {\n",
       "        vertical-align: middle;\n",
       "    }\n",
       "\n",
       "    .dataframe tbody tr th {\n",
       "        vertical-align: top;\n",
       "    }\n",
       "\n",
       "    .dataframe thead th {\n",
       "        text-align: right;\n",
       "    }\n",
       "</style>\n",
       "<table border=\"1\" class=\"dataframe\">\n",
       "  <thead>\n",
       "    <tr style=\"text-align: right;\">\n",
       "      <th></th>\n",
       "      <th>device</th>\n",
       "      <th>end_ts</th>\n",
       "      <th>source_id</th>\n",
       "      <th>start_ts</th>\n",
       "      <th>uid</th>\n",
       "    </tr>\n",
       "  </thead>\n",
       "  <tbody>\n",
       "    <tr>\n",
       "      <th>0</th>\n",
       "      <td>touch</td>\n",
       "      <td>2017-12-20 17:38:00</td>\n",
       "      <td>4</td>\n",
       "      <td>2017-12-20 17:20:00</td>\n",
       "      <td>16879256277535980062</td>\n",
       "    </tr>\n",
       "  </tbody>\n",
       "</table>\n",
       "</div>"
      ],
      "text/plain": [
       "  device              end_ts  source_id            start_ts  \\\n",
       "0  touch 2017-12-20 17:38:00          4 2017-12-20 17:20:00   \n",
       "\n",
       "                    uid  \n",
       "0  16879256277535980062  "
      ]
     },
     "execution_count": 113,
     "metadata": {},
     "output_type": "execute_result"
    }
   ],
   "source": [
    "# comprobando si resulto.\n",
    "visits_data.head(1)"
   ]
  },
  {
   "cell_type": "markdown",
   "metadata": {},
   "source": [
    "La tabla visits_data tiene la información de datos sobre las visitas al sitio web y sus columnas contienen:\n",
    "- `Uid:` - Identificador único del usuario.\n",
    "- `Device:` - Dispositivo del usuario.\n",
    "- `Start Ts:` - Fecha y hora de inicio de sesión.\n",
    "- `End Ts:` - Fecha y hora de término de la sesión.\n",
    "- `Source id:` - Identificador de la fuente de anuncios de la que proviene el usuario."
   ]
  },
  {
   "cell_type": "code",
   "execution_count": 114,
   "metadata": {},
   "outputs": [],
   "source": [
    "# carga de datos de la segunda tabla.\n",
    "orders_data = pd.read_csv('/datasets/orders_log_us.csv', parse_dates=['Buy Ts'])"
   ]
  },
  {
   "cell_type": "code",
   "execution_count": 115,
   "metadata": {},
   "outputs": [
    {
     "name": "stdout",
     "output_type": "stream",
     "text": [
      "<class 'pandas.core.frame.DataFrame'>\n",
      "RangeIndex: 50415 entries, 0 to 50414\n",
      "Data columns (total 3 columns):\n",
      " #   Column   Non-Null Count  Dtype         \n",
      "---  ------   --------------  -----         \n",
      " 0   Buy Ts   50415 non-null  datetime64[ns]\n",
      " 1   Revenue  50415 non-null  float64       \n",
      " 2   Uid      50415 non-null  uint64        \n",
      "dtypes: datetime64[ns](1), float64(1), uint64(1)\n",
      "memory usage: 1.2 MB\n",
      "\n",
      "Datos duplicados: 0\n"
     ]
    }
   ],
   "source": [
    "# Veamos la informacion de nuestra segunda tabla y si contiene valores duplicados.\n",
    "orders_data.info()\n",
    "print()\n",
    "print(f'Datos duplicados: {orders_data.duplicated().sum()}')"
   ]
  },
  {
   "cell_type": "code",
   "execution_count": 116,
   "metadata": {},
   "outputs": [],
   "source": [
    "# Renombraremos las columnas.\n",
    "orders_data = orders_data.rename(\n",
    "    columns= {'Buy Ts':'buy_ts',\n",
    "              'Revenue':'revenue',\n",
    "              'Uid':'uid'})"
   ]
  },
  {
   "cell_type": "code",
   "execution_count": 117,
   "metadata": {},
   "outputs": [
    {
     "data": {
      "text/html": [
       "<div>\n",
       "<style scoped>\n",
       "    .dataframe tbody tr th:only-of-type {\n",
       "        vertical-align: middle;\n",
       "    }\n",
       "\n",
       "    .dataframe tbody tr th {\n",
       "        vertical-align: top;\n",
       "    }\n",
       "\n",
       "    .dataframe thead th {\n",
       "        text-align: right;\n",
       "    }\n",
       "</style>\n",
       "<table border=\"1\" class=\"dataframe\">\n",
       "  <thead>\n",
       "    <tr style=\"text-align: right;\">\n",
       "      <th></th>\n",
       "      <th>buy_ts</th>\n",
       "      <th>revenue</th>\n",
       "      <th>uid</th>\n",
       "    </tr>\n",
       "  </thead>\n",
       "  <tbody>\n",
       "    <tr>\n",
       "      <th>0</th>\n",
       "      <td>2017-06-01 00:10:00</td>\n",
       "      <td>17.0</td>\n",
       "      <td>10329302124590727494</td>\n",
       "    </tr>\n",
       "  </tbody>\n",
       "</table>\n",
       "</div>"
      ],
      "text/plain": [
       "               buy_ts  revenue                   uid\n",
       "0 2017-06-01 00:10:00     17.0  10329302124590727494"
      ]
     },
     "execution_count": 117,
     "metadata": {},
     "output_type": "execute_result"
    }
   ],
   "source": [
    "# comprobando si resulto.\n",
    "orders_data.head(1)"
   ]
  },
  {
   "cell_type": "markdown",
   "metadata": {},
   "source": [
    "La tabla orders_data tiene la informacion sobre los pedidos y sus columnas contiene:\n",
    "- `Uid:` - Identificador único del usuario que realiza un pedido.\n",
    "- `Buy Ts:` - Fecha y hora del pedido.\n",
    "- `Revenue:` Ingresos de Y.Afisha de este pedido."
   ]
  },
  {
   "cell_type": "code",
   "execution_count": 118,
   "metadata": {},
   "outputs": [],
   "source": [
    "# Carga de datos de nuestra tercera tabla.\n",
    "costs_data = pd.read_csv('/datasets/costs_us.csv', parse_dates=['dt'])"
   ]
  },
  {
   "cell_type": "code",
   "execution_count": 119,
   "metadata": {},
   "outputs": [
    {
     "name": "stdout",
     "output_type": "stream",
     "text": [
      "<class 'pandas.core.frame.DataFrame'>\n",
      "RangeIndex: 2542 entries, 0 to 2541\n",
      "Data columns (total 3 columns):\n",
      " #   Column     Non-Null Count  Dtype         \n",
      "---  ------     --------------  -----         \n",
      " 0   source_id  2542 non-null   int64         \n",
      " 1   dt         2542 non-null   datetime64[ns]\n",
      " 2   costs      2542 non-null   float64       \n",
      "dtypes: datetime64[ns](1), float64(1), int64(1)\n",
      "memory usage: 59.7 KB\n",
      "\n",
      "Datos duplicados: 0\n"
     ]
    }
   ],
   "source": [
    "# Veamos la informacion de nuestra tercera tabla y si tiene valores duplicados.\n",
    "costs_data.info()\n",
    "print()\n",
    "print(f'Datos duplicados: {costs_data.duplicated().sum()}')"
   ]
  },
  {
   "cell_type": "code",
   "execution_count": 120,
   "metadata": {},
   "outputs": [
    {
     "data": {
      "text/html": [
       "<div>\n",
       "<style scoped>\n",
       "    .dataframe tbody tr th:only-of-type {\n",
       "        vertical-align: middle;\n",
       "    }\n",
       "\n",
       "    .dataframe tbody tr th {\n",
       "        vertical-align: top;\n",
       "    }\n",
       "\n",
       "    .dataframe thead th {\n",
       "        text-align: right;\n",
       "    }\n",
       "</style>\n",
       "<table border=\"1\" class=\"dataframe\">\n",
       "  <thead>\n",
       "    <tr style=\"text-align: right;\">\n",
       "      <th></th>\n",
       "      <th>source_id</th>\n",
       "      <th>dt</th>\n",
       "      <th>costs</th>\n",
       "    </tr>\n",
       "  </thead>\n",
       "  <tbody>\n",
       "    <tr>\n",
       "      <th>0</th>\n",
       "      <td>1</td>\n",
       "      <td>2017-06-01</td>\n",
       "      <td>75.2</td>\n",
       "    </tr>\n",
       "  </tbody>\n",
       "</table>\n",
       "</div>"
      ],
      "text/plain": [
       "   source_id         dt  costs\n",
       "0          1 2017-06-01   75.2"
      ]
     },
     "execution_count": 120,
     "metadata": {},
     "output_type": "execute_result"
    }
   ],
   "source": [
    "# Veamos la información general.\n",
    "costs_data.head(1)"
   ]
  },
  {
   "cell_type": "markdown",
   "metadata": {},
   "source": [
    "La tabla costs_data tiene la información de los datos sobre gastos de markenting y sus columnas contienen:\n",
    "- `source_id:` - Identificador de la fuente de anuncios.\n",
    "- `dt:` - Fecha.\n",
    "- `costs:` - Gastos en esta fuente de anuncios en este día. "
   ]
  },
  {
   "cell_type": "markdown",
   "metadata": {},
   "source": [
    "**Conslusión intermedia.**\n",
    "- Logramos ver es nuestra exploración de datos, que las tablas tenian celdas en formato object siendo fechas, estas fueron cambiadas a formato datetime64.\n",
    "- Nuestra tabla no tienen valores duplicados ni valores ausentes, lo que nos indica que tenemos unas tablas bastantes limpias.\n",
    "- Las columnas que estaban con mayusculas fueron cambiadas a minusculas, y tambien fueron renombradas para un mejor trabajo.\n"
   ]
  },
  {
   "cell_type": "markdown",
   "metadata": {},
   "source": [
    "### Enrriquecer los datos."
   ]
  },
  {
   "cell_type": "code",
   "execution_count": 121,
   "metadata": {},
   "outputs": [],
   "source": [
    "# Vamos a gregas el mes los dias y semanas a nuestra primera tabla visits_data.\n",
    "visits_data['day'] = visits_data['start_ts'].dt.day\n",
    "visits_data['week'] = visits_data['start_ts'].astype('datetime64[W]')\n",
    "visits_data['month'] = visits_data['start_ts'].astype('datetime64[M]')\n",
    "visits_data['date'] = visits_data['start_ts'].dt.date.astype('datetime64[ns]')"
   ]
  },
  {
   "cell_type": "code",
   "execution_count": 122,
   "metadata": {},
   "outputs": [
    {
     "data": {
      "text/html": [
       "<div>\n",
       "<style scoped>\n",
       "    .dataframe tbody tr th:only-of-type {\n",
       "        vertical-align: middle;\n",
       "    }\n",
       "\n",
       "    .dataframe tbody tr th {\n",
       "        vertical-align: top;\n",
       "    }\n",
       "\n",
       "    .dataframe thead th {\n",
       "        text-align: right;\n",
       "    }\n",
       "</style>\n",
       "<table border=\"1\" class=\"dataframe\">\n",
       "  <thead>\n",
       "    <tr style=\"text-align: right;\">\n",
       "      <th></th>\n",
       "      <th>device</th>\n",
       "      <th>end_ts</th>\n",
       "      <th>source_id</th>\n",
       "      <th>start_ts</th>\n",
       "      <th>uid</th>\n",
       "      <th>day</th>\n",
       "      <th>week</th>\n",
       "      <th>month</th>\n",
       "      <th>date</th>\n",
       "    </tr>\n",
       "  </thead>\n",
       "  <tbody>\n",
       "    <tr>\n",
       "      <th>0</th>\n",
       "      <td>touch</td>\n",
       "      <td>2017-12-20 17:38:00</td>\n",
       "      <td>4</td>\n",
       "      <td>2017-12-20 17:20:00</td>\n",
       "      <td>16879256277535980062</td>\n",
       "      <td>20</td>\n",
       "      <td>2017-12-14</td>\n",
       "      <td>2017-12-01</td>\n",
       "      <td>2017-12-20</td>\n",
       "    </tr>\n",
       "    <tr>\n",
       "      <th>1</th>\n",
       "      <td>desktop</td>\n",
       "      <td>2018-02-19 17:21:00</td>\n",
       "      <td>2</td>\n",
       "      <td>2018-02-19 16:53:00</td>\n",
       "      <td>104060357244891740</td>\n",
       "      <td>19</td>\n",
       "      <td>2018-02-15</td>\n",
       "      <td>2018-02-01</td>\n",
       "      <td>2018-02-19</td>\n",
       "    </tr>\n",
       "    <tr>\n",
       "      <th>2</th>\n",
       "      <td>touch</td>\n",
       "      <td>2017-07-01 01:54:00</td>\n",
       "      <td>5</td>\n",
       "      <td>2017-07-01 01:54:00</td>\n",
       "      <td>7459035603376831527</td>\n",
       "      <td>1</td>\n",
       "      <td>2017-06-29</td>\n",
       "      <td>2017-07-01</td>\n",
       "      <td>2017-07-01</td>\n",
       "    </tr>\n",
       "    <tr>\n",
       "      <th>3</th>\n",
       "      <td>desktop</td>\n",
       "      <td>2018-05-20 11:23:00</td>\n",
       "      <td>9</td>\n",
       "      <td>2018-05-20 10:59:00</td>\n",
       "      <td>16174680259334210214</td>\n",
       "      <td>20</td>\n",
       "      <td>2018-05-17</td>\n",
       "      <td>2018-05-01</td>\n",
       "      <td>2018-05-20</td>\n",
       "    </tr>\n",
       "    <tr>\n",
       "      <th>4</th>\n",
       "      <td>desktop</td>\n",
       "      <td>2017-12-27 14:06:00</td>\n",
       "      <td>3</td>\n",
       "      <td>2017-12-27 14:06:00</td>\n",
       "      <td>9969694820036681168</td>\n",
       "      <td>27</td>\n",
       "      <td>2017-12-21</td>\n",
       "      <td>2017-12-01</td>\n",
       "      <td>2017-12-27</td>\n",
       "    </tr>\n",
       "  </tbody>\n",
       "</table>\n",
       "</div>"
      ],
      "text/plain": [
       "    device              end_ts  source_id            start_ts  \\\n",
       "0    touch 2017-12-20 17:38:00          4 2017-12-20 17:20:00   \n",
       "1  desktop 2018-02-19 17:21:00          2 2018-02-19 16:53:00   \n",
       "2    touch 2017-07-01 01:54:00          5 2017-07-01 01:54:00   \n",
       "3  desktop 2018-05-20 11:23:00          9 2018-05-20 10:59:00   \n",
       "4  desktop 2017-12-27 14:06:00          3 2017-12-27 14:06:00   \n",
       "\n",
       "                    uid  day       week      month       date  \n",
       "0  16879256277535980062   20 2017-12-14 2017-12-01 2017-12-20  \n",
       "1    104060357244891740   19 2018-02-15 2018-02-01 2018-02-19  \n",
       "2   7459035603376831527    1 2017-06-29 2017-07-01 2017-07-01  \n",
       "3  16174680259334210214   20 2018-05-17 2018-05-01 2018-05-20  \n",
       "4   9969694820036681168   27 2017-12-21 2017-12-01 2017-12-27  "
      ]
     },
     "execution_count": 122,
     "metadata": {},
     "output_type": "execute_result"
    }
   ],
   "source": [
    "# Mostraremos la tabla \n",
    "visits_data.head()"
   ]
  },
  {
   "cell_type": "code",
   "execution_count": 123,
   "metadata": {},
   "outputs": [],
   "source": [
    "# agregaremos una columna con solo la fecha.\n",
    "orders_data['date_buys'] = orders_data['buy_ts'].astype('datetime64[M]')"
   ]
  },
  {
   "cell_type": "code",
   "execution_count": 124,
   "metadata": {},
   "outputs": [
    {
     "data": {
      "text/html": [
       "<div>\n",
       "<style scoped>\n",
       "    .dataframe tbody tr th:only-of-type {\n",
       "        vertical-align: middle;\n",
       "    }\n",
       "\n",
       "    .dataframe tbody tr th {\n",
       "        vertical-align: top;\n",
       "    }\n",
       "\n",
       "    .dataframe thead th {\n",
       "        text-align: right;\n",
       "    }\n",
       "</style>\n",
       "<table border=\"1\" class=\"dataframe\">\n",
       "  <thead>\n",
       "    <tr style=\"text-align: right;\">\n",
       "      <th></th>\n",
       "      <th>buy_ts</th>\n",
       "      <th>revenue</th>\n",
       "      <th>uid</th>\n",
       "      <th>date_buys</th>\n",
       "    </tr>\n",
       "  </thead>\n",
       "  <tbody>\n",
       "    <tr>\n",
       "      <th>0</th>\n",
       "      <td>2017-06-01 00:10:00</td>\n",
       "      <td>17.0</td>\n",
       "      <td>10329302124590727494</td>\n",
       "      <td>2017-06-01</td>\n",
       "    </tr>\n",
       "  </tbody>\n",
       "</table>\n",
       "</div>"
      ],
      "text/plain": [
       "               buy_ts  revenue                   uid  date_buys\n",
       "0 2017-06-01 00:10:00     17.0  10329302124590727494 2017-06-01"
      ]
     },
     "execution_count": 124,
     "metadata": {},
     "output_type": "execute_result"
    }
   ],
   "source": [
    "# Verificamos los datos.\n",
    "orders_data.head(1)"
   ]
  },
  {
   "cell_type": "markdown",
   "metadata": {},
   "source": [
    "## Informes y metricas de los productos."
   ]
  },
  {
   "cell_type": "markdown",
   "metadata": {},
   "source": [
    "### ¿Cuántas personas lo usan cada día, semana y mes?\n"
   ]
  },
  {
   "cell_type": "code",
   "execution_count": 125,
   "metadata": {},
   "outputs": [
    {
     "data": {
      "text/plain": [
       "desktop    262567\n",
       "touch       96833\n",
       "Name: device, dtype: int64"
      ]
     },
     "execution_count": 125,
     "metadata": {},
     "output_type": "execute_result"
    }
   ],
   "source": [
    "# Vamos a traer el valor de la columna device de visits_data \n",
    "visits_data['device'].value_counts()"
   ]
  },
  {
   "cell_type": "code",
   "execution_count": 126,
   "metadata": {},
   "outputs": [
    {
     "data": {
      "text/plain": [
       "desktop    73.05704\n",
       "touch      26.94296\n",
       "Name: device, dtype: float64"
      ]
     },
     "execution_count": 126,
     "metadata": {},
     "output_type": "execute_result"
    }
   ],
   "source": [
    "# Vamos a calcular el promedio de las valores de device.\n",
    "(visits_data['device'].value_counts() / visits_data.shape[0])*100"
   ]
  },
  {
   "cell_type": "code",
   "execution_count": 127,
   "metadata": {},
   "outputs": [],
   "source": [
    "# Realizaremos una función para calcular las metricas de uso por segmento.\n",
    "def visits_total_seg(visits):\n",
    "    dau = math.ceil(visits.groupby(['date']).agg({'uid': 'nunique'}).mean())\n",
    "    print(f'Total diario: {dau}')\n",
    "    wau = math.ceil(visits.groupby(['week']).agg({'uid': 'nunique'}).mean())\n",
    "    print(f'Total semanal: {wau}')\n",
    "    mau = math.ceil(visits.groupby(['month']).agg({'uid': 'nunique'}).mean())\n",
    "    print(f'Total mensual: {mau}')\n",
    "    return dau, wau, mau\n"
   ]
  },
  {
   "cell_type": "code",
   "execution_count": 128,
   "metadata": {},
   "outputs": [
    {
     "name": "stdout",
     "output_type": "stream",
     "text": [
      "Total diario: 908\n",
      "Total semanal: 5725\n",
      "Total mensual: 23229\n"
     ]
    }
   ],
   "source": [
    "# Cantidad promedio de las personas que usan la aplicación.\n",
    "dau,wau,mau = visits_total_seg(visits=visits_data)"
   ]
  },
  {
   "cell_type": "markdown",
   "metadata": {},
   "source": [
    "**Conclusión intermedia.**\n",
    "- obtuvimos la cantidad de personas que utilizan nuestra aplicacion de manera diaria, semanal y mensual. \n",
    "- logramos obtener que el dispositivo desktop es quien tiene la mayor catidad de visitas com um 73%, y el dispositivo touch solo tiene un 27% en promedio."
   ]
  },
  {
   "cell_type": "code",
   "execution_count": 129,
   "metadata": {},
   "outputs": [
    {
     "name": "stdout",
     "output_type": "stream",
     "text": [
      "Total diario: 253\n",
      "Total semanal: 1638\n",
      "Total mensual: 6826\n"
     ]
    }
   ],
   "source": [
    "# vamos a obtener el uso de la aplicacion segun el dispositivo touch\n",
    "touch_visits = visits_total_seg(visits=visits_data.query('device == \"touch\"'))"
   ]
  },
  {
   "cell_type": "code",
   "execution_count": 130,
   "metadata": {},
   "outputs": [
    {
     "name": "stdout",
     "output_type": "stream",
     "text": [
      "Total diario: 660\n",
      "Total semanal: 4136\n",
      "Total mensual: 16725\n"
     ]
    }
   ],
   "source": [
    "# vamos a obtener el uso de la aplicacion segun el dispositivo desktop\n",
    "desktop_visits = visits_total_seg(visits=visits_data.query('device == \"desktop\"'))"
   ]
  },
  {
   "cell_type": "code",
   "execution_count": 131,
   "metadata": {},
   "outputs": [
    {
     "data": {
      "text/html": [
       "<div>\n",
       "<style scoped>\n",
       "    .dataframe tbody tr th:only-of-type {\n",
       "        vertical-align: middle;\n",
       "    }\n",
       "\n",
       "    .dataframe tbody tr th {\n",
       "        vertical-align: top;\n",
       "    }\n",
       "\n",
       "    .dataframe thead th {\n",
       "        text-align: right;\n",
       "    }\n",
       "</style>\n",
       "<table border=\"1\" class=\"dataframe\">\n",
       "  <thead>\n",
       "    <tr style=\"text-align: right;\">\n",
       "      <th></th>\n",
       "      <th>dau</th>\n",
       "    </tr>\n",
       "    <tr>\n",
       "      <th>date</th>\n",
       "      <th></th>\n",
       "    </tr>\n",
       "  </thead>\n",
       "  <tbody>\n",
       "    <tr>\n",
       "      <th>2017-06-01</th>\n",
       "      <td>605</td>\n",
       "    </tr>\n",
       "    <tr>\n",
       "      <th>2017-06-02</th>\n",
       "      <td>608</td>\n",
       "    </tr>\n",
       "    <tr>\n",
       "      <th>2017-06-03</th>\n",
       "      <td>445</td>\n",
       "    </tr>\n",
       "    <tr>\n",
       "      <th>2017-06-04</th>\n",
       "      <td>476</td>\n",
       "    </tr>\n",
       "    <tr>\n",
       "      <th>2017-06-05</th>\n",
       "      <td>820</td>\n",
       "    </tr>\n",
       "  </tbody>\n",
       "</table>\n",
       "</div>"
      ],
      "text/plain": [
       "            dau\n",
       "date           \n",
       "2017-06-01  605\n",
       "2017-06-02  608\n",
       "2017-06-03  445\n",
       "2017-06-04  476\n",
       "2017-06-05  820"
      ]
     },
     "execution_count": 131,
     "metadata": {},
     "output_type": "execute_result"
    }
   ],
   "source": [
    "# Agrupemos por dia y con identificador único.\n",
    "visits_data.groupby('date').agg(dau=('uid','nunique')).head()"
   ]
  },
  {
   "cell_type": "code",
   "execution_count": 132,
   "metadata": {},
   "outputs": [
    {
     "data": {
      "text/plain": [
       "<matplotlib.lines.Line2D at 0x7f87179855e0>"
      ]
     },
     "execution_count": 132,
     "metadata": {},
     "output_type": "execute_result"
    },
    {
     "data": {
      "image/png": "[encoded data removed]",
      "text/plain": [
       "<Figure size 1080x360 with 1 Axes>"
      ]
     },
     "metadata": {
      "needs_background": "light"
     },
     "output_type": "display_data"
    }
   ],
   "source": [
    "# gráficamos el uso diario de la aplicación a lo largo del tiempo\n",
    "fig,ax = plt.subplots(figsize=(15,5))\n",
    "\n",
    "# obtenemos los rangos intercuantilicos\n",
    "Q1 = visits_data.groupby('date').agg(dau=('uid','nunique')).quantile(0.25)\n",
    "Q3 = visits_data.groupby('date').agg(dau=('uid','nunique')).quantile(0.75)\n",
    "\n",
    "IQR = Q3-Q1\n",
    "ls = Q3+1.5*IQR\n",
    "li = Q1-1.5*IQR\n",
    "\n",
    "ax.set_title('Uso diario de la aplicación')\n",
    "ax.set_ylabel('Cantidad de usuarios únicos')\n",
    "ax = visits_data.groupby('date').agg(dau = ('uid','nunique')).plot(ax=ax)\n",
    "ax.axhline(y = ls[0],color ='red')\n",
    "ax.axhline(y = 0, color ='red')"
   ]
  },
  {
   "cell_type": "code",
   "execution_count": 133,
   "metadata": {},
   "outputs": [
    {
     "data": {
      "text/html": [
       "<div>\n",
       "<style scoped>\n",
       "    .dataframe tbody tr th:only-of-type {\n",
       "        vertical-align: middle;\n",
       "    }\n",
       "\n",
       "    .dataframe tbody tr th {\n",
       "        vertical-align: top;\n",
       "    }\n",
       "\n",
       "    .dataframe thead th {\n",
       "        text-align: right;\n",
       "    }\n",
       "</style>\n",
       "<table border=\"1\" class=\"dataframe\">\n",
       "  <thead>\n",
       "    <tr style=\"text-align: right;\">\n",
       "      <th></th>\n",
       "      <th>wau</th>\n",
       "    </tr>\n",
       "    <tr>\n",
       "      <th>week</th>\n",
       "      <th></th>\n",
       "    </tr>\n",
       "  </thead>\n",
       "  <tbody>\n",
       "    <tr>\n",
       "      <th>2017-06-01</th>\n",
       "      <td>4082</td>\n",
       "    </tr>\n",
       "    <tr>\n",
       "      <th>2017-06-08</th>\n",
       "      <td>3311</td>\n",
       "    </tr>\n",
       "    <tr>\n",
       "      <th>2017-06-15</th>\n",
       "      <td>2844</td>\n",
       "    </tr>\n",
       "    <tr>\n",
       "      <th>2017-06-22</th>\n",
       "      <td>3079</td>\n",
       "    </tr>\n",
       "    <tr>\n",
       "      <th>2017-06-29</th>\n",
       "      <td>3055</td>\n",
       "    </tr>\n",
       "  </tbody>\n",
       "</table>\n",
       "</div>"
      ],
      "text/plain": [
       "             wau\n",
       "week            \n",
       "2017-06-01  4082\n",
       "2017-06-08  3311\n",
       "2017-06-15  2844\n",
       "2017-06-22  3079\n",
       "2017-06-29  3055"
      ]
     },
     "execution_count": 133,
     "metadata": {},
     "output_type": "execute_result"
    }
   ],
   "source": [
    "# Agruparemos por semana con identificador unicos.\n",
    "visits_data.groupby('week').agg(wau=('uid','nunique')).head()"
   ]
  },
  {
   "cell_type": "code",
   "execution_count": 134,
   "metadata": {
    "scrolled": true
   },
   "outputs": [
    {
     "data": {
      "text/plain": [
       "<matplotlib.lines.Line2D at 0x7f87172dedc0>"
      ]
     },
     "execution_count": 134,
     "metadata": {},
     "output_type": "execute_result"
    },
    {
     "data": {
      "image/png": "[encoded data removed]",
      "text/plain": [
       "<Figure size 720x360 with 1 Axes>"
      ]
     },
     "metadata": {
      "needs_background": "light"
     },
     "output_type": "display_data"
    }
   ],
   "source": [
    "# gráficamos el uso semanal de la aplicación a lo largo del tiempo\n",
    "fig,ax = plt.subplots(figsize=(10,5))\n",
    "\n",
    "# obtenemos los rangos intercuantilicos\n",
    "Q1 = visits_data.groupby('week').agg(wau = ('uid','nunique')).quantile(0.25)\n",
    "Q3 = visits_data.groupby('week').agg(wau = ('uid','nunique')).quantile(0.75)\n",
    "\n",
    "IQR = Q3-Q1\n",
    "ls = Q3+1.5*IQR\n",
    "li = Q1-1.5*IQR\n",
    "\n",
    "ax.set_title('Uso semanal de la aplicación')\n",
    "ax.set_ylabel('Cantidad de usuarios únicos')\n",
    "ax = visits_data.groupby('week').agg(wau = ('uid','nunique')).plot(ax=ax)\n",
    "ax.axhline(y = ls[0], color='red')\n",
    "ax.axhline(y = 0, color='red')"
   ]
  },
  {
   "cell_type": "code",
   "execution_count": 135,
   "metadata": {},
   "outputs": [
    {
     "data": {
      "text/html": [
       "<div>\n",
       "<style scoped>\n",
       "    .dataframe tbody tr th:only-of-type {\n",
       "        vertical-align: middle;\n",
       "    }\n",
       "\n",
       "    .dataframe tbody tr th {\n",
       "        vertical-align: top;\n",
       "    }\n",
       "\n",
       "    .dataframe thead th {\n",
       "        text-align: right;\n",
       "    }\n",
       "</style>\n",
       "<table border=\"1\" class=\"dataframe\">\n",
       "  <thead>\n",
       "    <tr style=\"text-align: right;\">\n",
       "      <th></th>\n",
       "      <th>wau</th>\n",
       "    </tr>\n",
       "    <tr>\n",
       "      <th>month</th>\n",
       "      <th></th>\n",
       "    </tr>\n",
       "  </thead>\n",
       "  <tbody>\n",
       "    <tr>\n",
       "      <th>2017-06-01</th>\n",
       "      <td>13259</td>\n",
       "    </tr>\n",
       "    <tr>\n",
       "      <th>2017-07-01</th>\n",
       "      <td>14183</td>\n",
       "    </tr>\n",
       "    <tr>\n",
       "      <th>2017-08-01</th>\n",
       "      <td>11631</td>\n",
       "    </tr>\n",
       "    <tr>\n",
       "      <th>2017-09-01</th>\n",
       "      <td>18975</td>\n",
       "    </tr>\n",
       "    <tr>\n",
       "      <th>2017-10-01</th>\n",
       "      <td>29692</td>\n",
       "    </tr>\n",
       "  </tbody>\n",
       "</table>\n",
       "</div>"
      ],
      "text/plain": [
       "              wau\n",
       "month            \n",
       "2017-06-01  13259\n",
       "2017-07-01  14183\n",
       "2017-08-01  11631\n",
       "2017-09-01  18975\n",
       "2017-10-01  29692"
      ]
     },
     "execution_count": 135,
     "metadata": {},
     "output_type": "execute_result"
    }
   ],
   "source": [
    "# Agruparemos por mes y con identificador unicos.\n",
    "visits_data.groupby('month').agg(wau=('uid','nunique')).head()"
   ]
  },
  {
   "cell_type": "code",
   "execution_count": 136,
   "metadata": {},
   "outputs": [
    {
     "data": {
      "text/plain": [
       "<matplotlib.lines.Line2D at 0x7f8714276f70>"
      ]
     },
     "execution_count": 136,
     "metadata": {},
     "output_type": "execute_result"
    },
    {
     "data": {
      "image/png": "[encoded data removed]",
      "text/plain": [
       "<Figure size 720x360 with 1 Axes>"
      ]
     },
     "metadata": {
      "needs_background": "light"
     },
     "output_type": "display_data"
    }
   ],
   "source": [
    "# gráficamos el uso semanal de la aplicación a lo largo del tiempo\n",
    "fig,ax = plt.subplots(figsize=(10,5))\n",
    "\n",
    "# obtenemos los rangos intercuantilicos\n",
    "Q1 = visits_data.groupby('month').agg(mau=('uid','nunique')).quantile(0.25)\n",
    "Q3 = visits_data.groupby('month').agg(mau=('uid','nunique')).quantile(0.75)\n",
    "\n",
    "IQR = Q3-Q1\n",
    "ls = Q3+1.5*IQR\n",
    "li = Q1-1.5*IQR\n",
    "\n",
    "ax.set_title('Uso mensual de la aplicación')\n",
    "ax.set_ylabel('Cantidad de usuarios únicos')\n",
    "ax = visits_data.groupby('month').agg(mau = ('uid','nunique')).plot(ax=ax)\n",
    "ax.axhline(y= ls[0], color='red')\n",
    "ax.axhline(y= 0, color='red')"
   ]
  },
  {
   "cell_type": "markdown",
   "metadata": {},
   "source": [
    "**conclusion intermedia.**\n",
    "- En esta sección obtuvimos el uso de la aplicacion según el dispositivo, confirmando que el dispositivo mas usado el el desktop.\n",
    "- Según nuestro grafico del uso diario nos indico que durante noviembre del 2017 tuvimos una alza de visitas que sobrepaso el nivel intercuantilico. esto podria deberse a algún evento en especifico realizado en esas fechas. \n",
    "- Semanalmente se tuvo un alto uso de la aplicación del mes de octubre del 2017 a marzo del 2018. La ultima semana del mes de noviembre del 2017 se tuvo un pico en el uso de la aplicación.\n",
    "- mensualmente el grafico nos confirma que en los meses de octubre del 2017 a marzo del 2018 se tuvo un alto uso de la aplicación, los meses de junio a agosto del 2017 han tenido un bajo uso de la aplicación."
   ]
  },
  {
   "cell_type": "markdown",
   "metadata": {},
   "source": [
    "### ¿Cuántas sesiones hay por dia, por semana y por mes?"
   ]
  },
  {
   "cell_type": "code",
   "execution_count": 137,
   "metadata": {},
   "outputs": [],
   "source": [
    "# Crearemos una funcion para obtenr las sesiones.\n",
    "def session_metrics_seg(visits_session):\n",
    "    session_day = math.ceil(visits_session.groupby('date').agg({'uid':'count'}).mean())\n",
    "    print(f'Total de sesiones por dia: {session_day}')\n",
    "    session_week = math.ceil(visits_session.groupby('week').agg({'uid':'count'}).mean())\n",
    "    print(f'Total de sesiones por semana: {session_week}')\n",
    "    session_month = math.ceil(visits_session.groupby('month').agg({'uid':'count'}).mean())\n",
    "    print(f'Total de sesiones por mes: {session_month}')\n",
    "    return session_day,session_week,session_month"
   ]
  },
  {
   "cell_type": "code",
   "execution_count": 138,
   "metadata": {},
   "outputs": [
    {
     "name": "stdout",
     "output_type": "stream",
     "text": [
      "Total de sesiones por dia: 988\n",
      "Total de sesiones por semana: 6782\n",
      "Total de sesiones por mes: 29950\n"
     ]
    }
   ],
   "source": [
    "session_day,session_week,session_month = session_metrics_seg(visits_session = visits_data)"
   ]
  },
  {
   "cell_type": "code",
   "execution_count": 139,
   "metadata": {},
   "outputs": [
    {
     "name": "stdout",
     "output_type": "stream",
     "text": [
      "Total de sesiones por dia: 267\n",
      "Total de sesiones por semana: 1828\n",
      "Total de sesiones por mes: 8070\n"
     ]
    }
   ],
   "source": [
    "session_touch = session_metrics_seg(visits_session = visits_data.query('device==\"touch\"'))"
   ]
  },
  {
   "cell_type": "code",
   "execution_count": 140,
   "metadata": {},
   "outputs": [
    {
     "name": "stdout",
     "output_type": "stream",
     "text": [
      "Total de sesiones por dia: 722\n",
      "Total de sesiones por semana: 4955\n",
      "Total de sesiones por mes: 21881\n"
     ]
    }
   ],
   "source": [
    "session_desktop = session_metrics_seg(visits_session = visits_data.query('device==\"desktop\"'))"
   ]
  },
  {
   "cell_type": "code",
   "execution_count": 141,
   "metadata": {},
   "outputs": [
    {
     "data": {
      "text/html": [
       "<div>\n",
       "<style scoped>\n",
       "    .dataframe tbody tr th:only-of-type {\n",
       "        vertical-align: middle;\n",
       "    }\n",
       "\n",
       "    .dataframe tbody tr th {\n",
       "        vertical-align: top;\n",
       "    }\n",
       "\n",
       "    .dataframe thead th {\n",
       "        text-align: right;\n",
       "    }\n",
       "</style>\n",
       "<table border=\"1\" class=\"dataframe\">\n",
       "  <thead>\n",
       "    <tr style=\"text-align: right;\">\n",
       "      <th></th>\n",
       "      <th>sessions</th>\n",
       "      <th>users</th>\n",
       "      <th>session_for_user</th>\n",
       "    </tr>\n",
       "    <tr>\n",
       "      <th>date</th>\n",
       "      <th></th>\n",
       "      <th></th>\n",
       "      <th></th>\n",
       "    </tr>\n",
       "  </thead>\n",
       "  <tbody>\n",
       "    <tr>\n",
       "      <th>2018-02-14</th>\n",
       "      <td>1466</td>\n",
       "      <td>1333</td>\n",
       "      <td>1.099775</td>\n",
       "    </tr>\n",
       "  </tbody>\n",
       "</table>\n",
       "</div>"
      ],
      "text/plain": [
       "            sessions  users  session_for_user\n",
       "date                                         \n",
       "2018-02-14      1466   1333          1.099775"
      ]
     },
     "execution_count": 141,
     "metadata": {},
     "output_type": "execute_result"
    }
   ],
   "source": [
    "# Agruparemos las sesiones por dia y contaremos la cantidad de sesiones y la cantidad de usuarios únicos\n",
    "user_session_day = visits_data.groupby('date').agg(sessions =('uid','count'), users= ('uid','nunique'))\n",
    "user_session_day['session_for_user'] = user_session_day['sessions'] / user_session_day['users']\n",
    "user_session_day.sample()"
   ]
  },
  {
   "cell_type": "code",
   "execution_count": 142,
   "metadata": {},
   "outputs": [
    {
     "name": "stdout",
     "output_type": "stream",
     "text": [
      "session maxima: 1.2178366978005424\n",
      "session minima: 1.0\n",
      "session promedio: 1.082169644003972\n"
     ]
    }
   ],
   "source": [
    "# vamos a obtener un promedio de sessiones por dia \n",
    "max = user_session_day['session_for_user'].max()\n",
    "min = user_session_day['session_for_user'].min()\n",
    "mean = user_session_day['session_for_user'].mean()\n",
    "print(f'session maxima: {max}')\n",
    "print(f'session minima: {min}')\n",
    "print(f'session promedio: {mean}')"
   ]
  },
  {
   "cell_type": "markdown",
   "metadata": {},
   "source": [
    "**conclusión intermedia**\n",
    "- en esta seccion realizamos una funcion parecida a la anterior pero en este caso es para obtener la cantidad promedio de sessiones que se hacen en dias, semanas y meses.\n",
    "- seguimos confirmando que la aplicación desktop es la mas utilizada.\n",
    "- Realizamos una formula para obtener las sessiones por dia con usuarios unicos.\n",
    "- Las sesiones diarias iniciadas por usuario está entre uno y uno punto dos, con un promedio de uno punto cero ocho, lo que nos indica que en promedio los usuarios inician sesión al menos una vez al día.\n"
   ]
  },
  {
   "cell_type": "markdown",
   "metadata": {},
   "source": [
    "### ¿Cuál es la duración de cada sesión?"
   ]
  },
  {
   "cell_type": "code",
   "execution_count": 143,
   "metadata": {},
   "outputs": [
    {
     "data": {
      "text/html": [
       "<div>\n",
       "<style scoped>\n",
       "    .dataframe tbody tr th:only-of-type {\n",
       "        vertical-align: middle;\n",
       "    }\n",
       "\n",
       "    .dataframe tbody tr th {\n",
       "        vertical-align: top;\n",
       "    }\n",
       "\n",
       "    .dataframe thead th {\n",
       "        text-align: right;\n",
       "    }\n",
       "</style>\n",
       "<table border=\"1\" class=\"dataframe\">\n",
       "  <thead>\n",
       "    <tr style=\"text-align: right;\">\n",
       "      <th></th>\n",
       "      <th>device</th>\n",
       "      <th>end_ts</th>\n",
       "      <th>source_id</th>\n",
       "      <th>start_ts</th>\n",
       "      <th>uid</th>\n",
       "      <th>day</th>\n",
       "      <th>week</th>\n",
       "      <th>month</th>\n",
       "      <th>date</th>\n",
       "      <th>duracion_seg</th>\n",
       "    </tr>\n",
       "  </thead>\n",
       "  <tbody>\n",
       "    <tr>\n",
       "      <th>0</th>\n",
       "      <td>touch</td>\n",
       "      <td>2017-12-20 17:38:00</td>\n",
       "      <td>4</td>\n",
       "      <td>2017-12-20 17:20:00</td>\n",
       "      <td>16879256277535980062</td>\n",
       "      <td>20</td>\n",
       "      <td>2017-12-14</td>\n",
       "      <td>2017-12-01</td>\n",
       "      <td>2017-12-20</td>\n",
       "      <td>1080</td>\n",
       "    </tr>\n",
       "  </tbody>\n",
       "</table>\n",
       "</div>"
      ],
      "text/plain": [
       "  device              end_ts  source_id            start_ts  \\\n",
       "0  touch 2017-12-20 17:38:00          4 2017-12-20 17:20:00   \n",
       "\n",
       "                    uid  day       week      month       date  duracion_seg  \n",
       "0  16879256277535980062   20 2017-12-14 2017-12-01 2017-12-20          1080  "
      ]
     },
     "execution_count": 143,
     "metadata": {},
     "output_type": "execute_result"
    }
   ],
   "source": [
    "# Vamos a obtener la duracion en segundos de la sesion para cada registro de nuestra tabla visits_data.\n",
    "visits_data['duracion_seg'] = (visits_data['end_ts'] - visits_data['start_ts']).dt.seconds\n",
    "visits_data.head(1)"
   ]
  },
  {
   "cell_type": "code",
   "execution_count": 144,
   "metadata": {},
   "outputs": [
    {
     "data": {
      "text/plain": [
       "duracion_seg    621.830355\n",
       "dtype: float64"
      ]
     },
     "execution_count": 144,
     "metadata": {},
     "output_type": "execute_result"
    }
   ],
   "source": [
    "# Duración promedio diaria de una sesion.\n",
    "visits_data.groupby('date').agg({'duracion_seg': 'mean'}).mean()"
   ]
  },
  {
   "cell_type": "code",
   "execution_count": 145,
   "metadata": {},
   "outputs": [
    {
     "data": {
      "text/plain": [
       "count    359400.000000\n",
       "mean        643.506489\n",
       "std        1016.334786\n",
       "min           0.000000\n",
       "25%         120.000000\n",
       "50%         300.000000\n",
       "75%         840.000000\n",
       "max       84480.000000\n",
       "Name: duracion_seg, dtype: float64"
      ]
     },
     "execution_count": 145,
     "metadata": {},
     "output_type": "execute_result"
    }
   ],
   "source": [
    "# Veamos una descripcion de los datos.\n",
    "visits_data['duracion_seg'].describe()"
   ]
  },
  {
   "cell_type": "code",
   "execution_count": 146,
   "metadata": {},
   "outputs": [
    {
     "data": {
      "text/plain": [
       "<AxesSubplot:>"
      ]
     },
     "execution_count": 146,
     "metadata": {},
     "output_type": "execute_result"
    },
    {
     "data": {
      "image/png": "[encoded data removed]",
      "text/plain": [
       "<Figure size 432x288 with 1 Axes>"
      ]
     },
     "metadata": {
      "needs_background": "light"
     },
     "output_type": "display_data"
    }
   ],
   "source": [
    "# Realizaremos un histograma para una mejor observacion.\n",
    "visits_data['duracion_seg'].hist(bins=50, range=(0, 1000))"
   ]
  },
  {
   "cell_type": "code",
   "execution_count": 147,
   "metadata": {},
   "outputs": [
    {
     "name": "stdout",
     "output_type": "stream",
     "text": [
      "La ASL es: [60]\n"
     ]
    }
   ],
   "source": [
    "# Vamos a obtener la mode de la duracion de la sesion.\n",
    "print(f\"La ASL es: {visits_data['duracion_seg'].mode().values}\")"
   ]
  },
  {
   "cell_type": "markdown",
   "metadata": {},
   "source": [
    "**conclusión intermedia**\n",
    "- ya que nuestro histograma nos muestra que los valores no con consecuentes no podemos obtener una media o una mediana de estos valores, por eso recurrimos a obtener la mode de los valores y  optaremos por elegir este valor como una duración promedio \"razonable\" de una sesión. \n",
    "- La mode nos indica que el tiempo promedio es 60 segundos tiempo suficientes para los usuarios."
   ]
  },
  {
   "cell_type": "markdown",
   "metadata": {},
   "source": [
    "### ¿Con qué frecuencia los usuarios regresan?"
   ]
  },
  {
   "cell_type": "code",
   "execution_count": 148,
   "metadata": {},
   "outputs": [
    {
     "name": "stdout",
     "output_type": "stream",
     "text": [
      "Total diario: 908\n",
      "Total semanal: 5725\n",
      "Total mensual: 23229\n"
     ]
    }
   ],
   "source": [
    "# mostramos las metricas calculadas DAU, WAU y MAU\n",
    "dau,wau,mau= visits_total_seg(visits=visits_data)"
   ]
  },
  {
   "cell_type": "code",
   "execution_count": 149,
   "metadata": {},
   "outputs": [
    {
     "name": "stdout",
     "output_type": "stream",
     "text": [
      "sticky_wau = 16%\n",
      "sticky_mau = 4%\n"
     ]
    }
   ],
   "source": [
    "# calculamos el 'sticky_factor'\n",
    "sticky_wau = dau/wau\n",
    "sticky_mau = dau/mau\n",
    "print(f'{sticky_wau =: .0%}')\n",
    "print(f'{sticky_mau =: .0%}')"
   ]
  },
  {
   "cell_type": "markdown",
   "metadata": {},
   "source": [
    "**conclusión intermedia**\n",
    "- El factor de adherencia nos indica que un 16% de los usuarios vuelven a usar la aplicación semanalmente y que mensualmente un 4%."
   ]
  },
  {
   "cell_type": "markdown",
   "metadata": {},
   "source": [
    "## Informe y metricas de las ventas."
   ]
  },
  {
   "cell_type": "markdown",
   "metadata": {},
   "source": [
    "### ¿Cuándo la gente empieza a comprar?"
   ]
  },
  {
   "cell_type": "code",
   "execution_count": 150,
   "metadata": {},
   "outputs": [
    {
     "name": "stdout",
     "output_type": "stream",
     "text": [
      "<class 'pandas.core.frame.DataFrame'>\n",
      "RangeIndex: 50415 entries, 0 to 50414\n",
      "Data columns (total 5 columns):\n",
      " #   Column      Non-Null Count  Dtype         \n",
      "---  ------      --------------  -----         \n",
      " 0   buy_ts      50415 non-null  datetime64[ns]\n",
      " 1   revenue     50415 non-null  float64       \n",
      " 2   uid         50415 non-null  uint64        \n",
      " 3   date_buys   50415 non-null  datetime64[ns]\n",
      " 4   month_buys  50415 non-null  datetime64[ns]\n",
      "dtypes: datetime64[ns](3), float64(1), uint64(1)\n",
      "memory usage: 1.9 MB\n"
     ]
    }
   ],
   "source": [
    "# Recordemos los datos de la tabla orders_data.\n",
    "orders_data['month_buys'] = orders_data['buy_ts'].astype('datetime64[M]')\n",
    "orders_data.info()"
   ]
  },
  {
   "cell_type": "code",
   "execution_count": 151,
   "metadata": {},
   "outputs": [
    {
     "data": {
      "text/html": [
       "<div>\n",
       "<style scoped>\n",
       "    .dataframe tbody tr th:only-of-type {\n",
       "        vertical-align: middle;\n",
       "    }\n",
       "\n",
       "    .dataframe tbody tr th {\n",
       "        vertical-align: top;\n",
       "    }\n",
       "\n",
       "    .dataframe thead th {\n",
       "        text-align: right;\n",
       "    }\n",
       "</style>\n",
       "<table border=\"1\" class=\"dataframe\">\n",
       "  <thead>\n",
       "    <tr style=\"text-align: right;\">\n",
       "      <th></th>\n",
       "      <th>uid</th>\n",
       "      <th>date_for_buys</th>\n",
       "    </tr>\n",
       "  </thead>\n",
       "  <tbody>\n",
       "    <tr>\n",
       "      <th>0</th>\n",
       "      <td>313578113262317</td>\n",
       "      <td>2018-01-03 21:51:00</td>\n",
       "    </tr>\n",
       "  </tbody>\n",
       "</table>\n",
       "</div>"
      ],
      "text/plain": [
       "               uid       date_for_buys\n",
       "0  313578113262317 2018-01-03 21:51:00"
      ]
     },
     "execution_count": 151,
     "metadata": {},
     "output_type": "execute_result"
    }
   ],
   "source": [
    "orders = orders_data.groupby('uid').agg({'buy_ts': 'min'}).reset_index()\n",
    "orders.columns=['uid', 'date_for_buys']\n",
    "orders.head(1)"
   ]
  },
  {
   "cell_type": "code",
   "execution_count": 152,
   "metadata": {},
   "outputs": [],
   "source": [
    "# obtengamos la fecha de registro.\n",
    "one_registre_user = visits_data.groupby('uid')['start_ts'].min()\n",
    "one_registre_user.name= 'one_user_registre'"
   ]
  },
  {
   "cell_type": "code",
   "execution_count": 153,
   "metadata": {},
   "outputs": [
    {
     "data": {
      "text/html": [
       "<div>\n",
       "<style scoped>\n",
       "    .dataframe tbody tr th:only-of-type {\n",
       "        vertical-align: middle;\n",
       "    }\n",
       "\n",
       "    .dataframe tbody tr th {\n",
       "        vertical-align: top;\n",
       "    }\n",
       "\n",
       "    .dataframe thead th {\n",
       "        text-align: right;\n",
       "    }\n",
       "</style>\n",
       "<table border=\"1\" class=\"dataframe\">\n",
       "  <thead>\n",
       "    <tr style=\"text-align: right;\">\n",
       "      <th></th>\n",
       "      <th>uid</th>\n",
       "      <th>one_user_registre</th>\n",
       "      <th>date_for_buys</th>\n",
       "    </tr>\n",
       "  </thead>\n",
       "  <tbody>\n",
       "    <tr>\n",
       "      <th>0</th>\n",
       "      <td>313578113262317</td>\n",
       "      <td>2017-09-18 22:49:00</td>\n",
       "      <td>2018-01-03 21:51:00</td>\n",
       "    </tr>\n",
       "    <tr>\n",
       "      <th>1</th>\n",
       "      <td>1575281904278712</td>\n",
       "      <td>2017-06-03 10:13:00</td>\n",
       "      <td>2017-06-03 10:13:00</td>\n",
       "    </tr>\n",
       "    <tr>\n",
       "      <th>2</th>\n",
       "      <td>2429014661409475</td>\n",
       "      <td>2017-10-11 17:14:00</td>\n",
       "      <td>2017-10-11 18:33:00</td>\n",
       "    </tr>\n",
       "    <tr>\n",
       "      <th>3</th>\n",
       "      <td>2464366381792757</td>\n",
       "      <td>2018-01-27 20:10:00</td>\n",
       "      <td>2018-01-28 15:54:00</td>\n",
       "    </tr>\n",
       "    <tr>\n",
       "      <th>4</th>\n",
       "      <td>2551852515556206</td>\n",
       "      <td>2017-11-24 10:14:00</td>\n",
       "      <td>2017-11-24 10:14:00</td>\n",
       "    </tr>\n",
       "  </tbody>\n",
       "</table>\n",
       "</div>"
      ],
      "text/plain": [
       "                uid   one_user_registre       date_for_buys\n",
       "0   313578113262317 2017-09-18 22:49:00 2018-01-03 21:51:00\n",
       "1  1575281904278712 2017-06-03 10:13:00 2017-06-03 10:13:00\n",
       "2  2429014661409475 2017-10-11 17:14:00 2017-10-11 18:33:00\n",
       "3  2464366381792757 2018-01-27 20:10:00 2018-01-28 15:54:00\n",
       "4  2551852515556206 2017-11-24 10:14:00 2017-11-24 10:14:00"
      ]
     },
     "execution_count": 153,
     "metadata": {},
     "output_type": "execute_result"
    }
   ],
   "source": [
    "# vamos a unos nuestros dateframe.\n",
    "buys = pd.merge(one_registre_user, orders, on='uid')\n",
    "buys.head()"
   ]
  },
  {
   "cell_type": "code",
   "execution_count": 154,
   "metadata": {},
   "outputs": [
    {
     "data": {
      "text/html": [
       "<div>\n",
       "<style scoped>\n",
       "    .dataframe tbody tr th:only-of-type {\n",
       "        vertical-align: middle;\n",
       "    }\n",
       "\n",
       "    .dataframe tbody tr th {\n",
       "        vertical-align: top;\n",
       "    }\n",
       "\n",
       "    .dataframe thead th {\n",
       "        text-align: right;\n",
       "    }\n",
       "</style>\n",
       "<table border=\"1\" class=\"dataframe\">\n",
       "  <thead>\n",
       "    <tr style=\"text-align: right;\">\n",
       "      <th></th>\n",
       "      <th>uid</th>\n",
       "      <th>one_user_registre</th>\n",
       "      <th>date_for_buys</th>\n",
       "      <th>days_for_order</th>\n",
       "    </tr>\n",
       "  </thead>\n",
       "  <tbody>\n",
       "    <tr>\n",
       "      <th>0</th>\n",
       "      <td>313578113262317</td>\n",
       "      <td>2017-09-18 22:49:00</td>\n",
       "      <td>2018-01-03 21:51:00</td>\n",
       "      <td>106</td>\n",
       "    </tr>\n",
       "  </tbody>\n",
       "</table>\n",
       "</div>"
      ],
      "text/plain": [
       "               uid   one_user_registre       date_for_buys  days_for_order\n",
       "0  313578113262317 2017-09-18 22:49:00 2018-01-03 21:51:00             106"
      ]
     },
     "execution_count": 154,
     "metadata": {},
     "output_type": "execute_result"
    }
   ],
   "source": [
    "# calculo de los dias que hay entre el registo y su primera compra\n",
    "buys['days_for_order'] = ((buys['date_for_buys'] - buys['one_user_registre']) / np.timedelta64(1, 'D')).astype('int')\n",
    "buys.head(1)"
   ]
  },
  {
   "cell_type": "code",
   "execution_count": 155,
   "metadata": {},
   "outputs": [
    {
     "data": {
      "text/plain": [
       "17.0"
      ]
     },
     "execution_count": 155,
     "metadata": {},
     "output_type": "execute_result"
    }
   ],
   "source": [
    "# tiempo promedio.\n",
    "buys['days_for_order'].mean().round()"
   ]
  },
  {
   "cell_type": "code",
   "execution_count": 156,
   "metadata": {},
   "outputs": [
    {
     "data": {
      "image/png": "[encoded data removed]",
      "text/plain": [
       "<Figure size 720x360 with 1 Axes>"
      ]
     },
     "metadata": {
      "needs_background": "light"
     },
     "output_type": "display_data"
    }
   ],
   "source": [
    "f,ax=plt.subplots(figsize=(10,5))\n",
    "\n",
    "ax.set_title('Dias entre el registro y la primera compra')\n",
    "ax.set_ylabel('frecuencia')\n",
    "ax= sns.histplot(buys['days_for_order'], bins=100)\n",
    "ax.axvline(buys['days_for_order'].mean(), color='green')\n",
    "plt.xlim(0,100)\n",
    "plt.show()"
   ]
  },
  {
   "cell_type": "markdown",
   "metadata": {},
   "source": [
    "**conclusión intermedia**\n",
    "- Para poder responder a esto tuvimos que unir nuestra primera tabla de visits_data con la segunda de orders_data \n",
    "- Utilizamos la media para obtener el resultado.\n",
    "- Esta formula no indico que los dias promedios que transcurren desde que un usuario se registra hasta que compra son 17."
   ]
  },
  {
   "cell_type": "code",
   "execution_count": 157,
   "metadata": {},
   "outputs": [
    {
     "data": {
      "text/html": [
       "<div>\n",
       "<style scoped>\n",
       "    .dataframe tbody tr th:only-of-type {\n",
       "        vertical-align: middle;\n",
       "    }\n",
       "\n",
       "    .dataframe tbody tr th {\n",
       "        vertical-align: top;\n",
       "    }\n",
       "\n",
       "    .dataframe thead th {\n",
       "        text-align: right;\n",
       "    }\n",
       "</style>\n",
       "<table border=\"1\" class=\"dataframe\">\n",
       "  <thead>\n",
       "    <tr style=\"text-align: right;\">\n",
       "      <th></th>\n",
       "      <th>n_buys</th>\n",
       "    </tr>\n",
       "    <tr>\n",
       "      <th>month_orders</th>\n",
       "      <th></th>\n",
       "    </tr>\n",
       "  </thead>\n",
       "  <tbody>\n",
       "    <tr>\n",
       "      <th>2017-06-01</th>\n",
       "      <td>2023</td>\n",
       "    </tr>\n",
       "  </tbody>\n",
       "</table>\n",
       "</div>"
      ],
      "text/plain": [
       "              n_buys\n",
       "month_orders        \n",
       "2017-06-01      2023"
      ]
     },
     "execution_count": 157,
     "metadata": {},
     "output_type": "execute_result"
    }
   ],
   "source": [
    "# Obtengamos el tamaño de cada cohorte segun su primera fecha de compra\n",
    "buys['month_orders'] = buys['date_for_buys'].dt.date.astype('datetime64[M]')\n",
    "cohort_age = buys.groupby('month_orders').agg(n_buys=('uid','count'))\n",
    "cohort_age.head(1)"
   ]
  },
  {
   "cell_type": "code",
   "execution_count": 158,
   "metadata": {},
   "outputs": [
    {
     "data": {
      "text/html": [
       "<div>\n",
       "<style scoped>\n",
       "    .dataframe tbody tr th:only-of-type {\n",
       "        vertical-align: middle;\n",
       "    }\n",
       "\n",
       "    .dataframe tbody tr th {\n",
       "        vertical-align: top;\n",
       "    }\n",
       "\n",
       "    .dataframe thead th {\n",
       "        text-align: right;\n",
       "    }\n",
       "</style>\n",
       "<table border=\"1\" class=\"dataframe\">\n",
       "  <thead>\n",
       "    <tr style=\"text-align: right;\">\n",
       "      <th></th>\n",
       "      <th>buy_ts</th>\n",
       "      <th>revenue</th>\n",
       "      <th>uid</th>\n",
       "      <th>date_buys</th>\n",
       "      <th>month_buys</th>\n",
       "      <th>one_user_registre</th>\n",
       "      <th>date_for_buys</th>\n",
       "      <th>days_for_order</th>\n",
       "      <th>month_orders</th>\n",
       "    </tr>\n",
       "  </thead>\n",
       "  <tbody>\n",
       "    <tr>\n",
       "      <th>0</th>\n",
       "      <td>2017-06-01 00:10:00</td>\n",
       "      <td>17.0</td>\n",
       "      <td>10329302124590727494</td>\n",
       "      <td>2017-06-01</td>\n",
       "      <td>2017-06-01</td>\n",
       "      <td>2017-06-01 00:09:00</td>\n",
       "      <td>2017-06-01 00:10:00</td>\n",
       "      <td>0</td>\n",
       "      <td>2017-06-01</td>\n",
       "    </tr>\n",
       "  </tbody>\n",
       "</table>\n",
       "</div>"
      ],
      "text/plain": [
       "               buy_ts  revenue                   uid  date_buys month_buys  \\\n",
       "0 2017-06-01 00:10:00     17.0  10329302124590727494 2017-06-01 2017-06-01   \n",
       "\n",
       "    one_user_registre       date_for_buys  days_for_order month_orders  \n",
       "0 2017-06-01 00:09:00 2017-06-01 00:10:00               0   2017-06-01  "
      ]
     },
     "execution_count": 158,
     "metadata": {},
     "output_type": "execute_result"
    }
   ],
   "source": [
    "# Vamos a unir los dataframe.\n",
    "pedidos = orders_data.merge(buys, on= 'uid')\n",
    "pedidos.head(1)"
   ]
  },
  {
   "cell_type": "code",
   "execution_count": 159,
   "metadata": {},
   "outputs": [],
   "source": [
    "# Cambiaremos el tipo de columna.\n",
    "pedidos['month_orders'] = pedidos['date_for_buys'].astype('datetime64[M]')"
   ]
  },
  {
   "cell_type": "code",
   "execution_count": 160,
   "metadata": {},
   "outputs": [],
   "source": [
    "# Vamos a obtener la cantidad de pedidos.\n",
    "cohortes_1 = pedidos.groupby(['month_orders','month_buys']).agg(n_orders=('uid','count')).reset_index()"
   ]
  },
  {
   "cell_type": "code",
   "execution_count": 161,
   "metadata": {},
   "outputs": [],
   "source": [
    "# calculemos la edad de cada cohorte en meses\n",
    "cohortes_1['age_month'] = (cohortes_1['month_buys'] - cohortes_1['month_orders'])/np.timedelta64(1,'M')\n",
    "cohortes_1['age_month'] = cohortes_1['age_month'].round().astype(int)"
   ]
  },
  {
   "cell_type": "code",
   "execution_count": 162,
   "metadata": {},
   "outputs": [],
   "source": [
    "# Vamos a unir los dataframe.\n",
    "cohortes_1 = cohortes_1.merge(cohort_age, on='month_orders')"
   ]
  },
  {
   "cell_type": "code",
   "execution_count": 163,
   "metadata": {},
   "outputs": [
    {
     "data": {
      "text/html": [
       "<div>\n",
       "<style scoped>\n",
       "    .dataframe tbody tr th:only-of-type {\n",
       "        vertical-align: middle;\n",
       "    }\n",
       "\n",
       "    .dataframe tbody tr th {\n",
       "        vertical-align: top;\n",
       "    }\n",
       "\n",
       "    .dataframe thead th {\n",
       "        text-align: right;\n",
       "    }\n",
       "</style>\n",
       "<table border=\"1\" class=\"dataframe\">\n",
       "  <thead>\n",
       "    <tr style=\"text-align: right;\">\n",
       "      <th></th>\n",
       "      <th>month_orders</th>\n",
       "      <th>month_buys</th>\n",
       "      <th>n_orders</th>\n",
       "      <th>age_month</th>\n",
       "      <th>n_buys</th>\n",
       "      <th>orders_user</th>\n",
       "    </tr>\n",
       "  </thead>\n",
       "  <tbody>\n",
       "    <tr>\n",
       "      <th>0</th>\n",
       "      <td>2017-06-01</td>\n",
       "      <td>2017-06-01</td>\n",
       "      <td>2354</td>\n",
       "      <td>0</td>\n",
       "      <td>2023</td>\n",
       "      <td>1.163618</td>\n",
       "    </tr>\n",
       "  </tbody>\n",
       "</table>\n",
       "</div>"
      ],
      "text/plain": [
       "  month_orders month_buys  n_orders  age_month  n_buys  orders_user\n",
       "0   2017-06-01 2017-06-01      2354          0    2023     1.163618"
      ]
     },
     "execution_count": 163,
     "metadata": {},
     "output_type": "execute_result"
    }
   ],
   "source": [
    "# vamos a obtener la cantidad promedio de pedidos por usuarios.\n",
    "cohortes_1['orders_user'] = cohortes_1['n_orders'] / cohortes_1['n_buys'] \n",
    "cohortes_1.head(1)"
   ]
  },
  {
   "cell_type": "code",
   "execution_count": 164,
   "metadata": {},
   "outputs": [
    {
     "data": {
      "image/png": "[encoded data removed]",
      "text/plain": [
       "<Figure size 720x864 with 2 Axes>"
      ]
     },
     "metadata": {
      "needs_background": "light"
     },
     "output_type": "display_data"
    }
   ],
   "source": [
    "# Realizaremos un mapa de calor.\n",
    "cohorts_map = cohortes_1.pivot_table(index='month_orders', columns= 'age_month', values='orders_user', aggfunc='mean').cumsum(axis=1)\n",
    "cohorts_map.fillna('')\n",
    "cohorts_map.index = cohorts_map.index.astype(str)\n",
    "plt.figure(figsize=(10,12))\n",
    "plt.title('pedidos acumulados por mes')\n",
    "sns.heatmap(cohorts_map, annot=True, fmt='.2f', linecolor='black', linewidths=1) \n",
    "plt.show()"
   ]
  },
  {
   "cell_type": "code",
   "execution_count": 165,
   "metadata": {},
   "outputs": [
    {
     "data": {
      "text/html": [
       "<div>\n",
       "<style scoped>\n",
       "    .dataframe tbody tr th:only-of-type {\n",
       "        vertical-align: middle;\n",
       "    }\n",
       "\n",
       "    .dataframe tbody tr th {\n",
       "        vertical-align: top;\n",
       "    }\n",
       "\n",
       "    .dataframe thead th {\n",
       "        text-align: right;\n",
       "    }\n",
       "</style>\n",
       "<table border=\"1\" class=\"dataframe\">\n",
       "  <thead>\n",
       "    <tr style=\"text-align: right;\">\n",
       "      <th></th>\n",
       "      <th>buy_ts</th>\n",
       "      <th>revenue</th>\n",
       "      <th>uid</th>\n",
       "      <th>date_buys</th>\n",
       "      <th>month_buys</th>\n",
       "      <th>one_user_registre</th>\n",
       "      <th>date_for_buys</th>\n",
       "    </tr>\n",
       "  </thead>\n",
       "  <tbody>\n",
       "    <tr>\n",
       "      <th>0</th>\n",
       "      <td>2017-06-01 00:10:00</td>\n",
       "      <td>17.0</td>\n",
       "      <td>10329302124590727494</td>\n",
       "      <td>2017-06-01</td>\n",
       "      <td>2017-06-01</td>\n",
       "      <td>2017-06-01 00:09:00</td>\n",
       "      <td>2017-06-01 00:10:00</td>\n",
       "    </tr>\n",
       "  </tbody>\n",
       "</table>\n",
       "</div>"
      ],
      "text/plain": [
       "               buy_ts  revenue                   uid  date_buys month_buys  \\\n",
       "0 2017-06-01 00:10:00     17.0  10329302124590727494 2017-06-01 2017-06-01   \n",
       "\n",
       "    one_user_registre       date_for_buys  \n",
       "0 2017-06-01 00:09:00 2017-06-01 00:10:00  "
      ]
     },
     "execution_count": 165,
     "metadata": {},
     "output_type": "execute_result"
    }
   ],
   "source": [
    "# Vamos a unir nuestra tabala orders_data con el registro de usuarios.\n",
    "registers_data = orders_data.merge(one_registre_user, on= 'uid')\n",
    "registers_data = registers_data.merge(orders, on= 'uid')\n",
    "registers_data.head(1)"
   ]
  },
  {
   "cell_type": "code",
   "execution_count": 166,
   "metadata": {},
   "outputs": [
    {
     "data": {
      "text/html": [
       "<div>\n",
       "<style scoped>\n",
       "    .dataframe tbody tr th:only-of-type {\n",
       "        vertical-align: middle;\n",
       "    }\n",
       "\n",
       "    .dataframe tbody tr th {\n",
       "        vertical-align: top;\n",
       "    }\n",
       "\n",
       "    .dataframe thead th {\n",
       "        text-align: right;\n",
       "    }\n",
       "</style>\n",
       "<table border=\"1\" class=\"dataframe\">\n",
       "  <thead>\n",
       "    <tr style=\"text-align: right;\">\n",
       "      <th></th>\n",
       "      <th>buy_ts</th>\n",
       "      <th>revenue</th>\n",
       "      <th>uid</th>\n",
       "      <th>date_buys</th>\n",
       "      <th>month_buys</th>\n",
       "      <th>one_user_registre</th>\n",
       "      <th>date_for_buys</th>\n",
       "      <th>days_order</th>\n",
       "    </tr>\n",
       "  </thead>\n",
       "  <tbody>\n",
       "    <tr>\n",
       "      <th>0</th>\n",
       "      <td>2017-06-01 00:10:00</td>\n",
       "      <td>17.0</td>\n",
       "      <td>10329302124590727494</td>\n",
       "      <td>2017-06-01</td>\n",
       "      <td>2017-06-01</td>\n",
       "      <td>2017-06-01</td>\n",
       "      <td>2017-06-01</td>\n",
       "      <td>0</td>\n",
       "    </tr>\n",
       "  </tbody>\n",
       "</table>\n",
       "</div>"
      ],
      "text/plain": [
       "               buy_ts  revenue                   uid  date_buys month_buys  \\\n",
       "0 2017-06-01 00:10:00     17.0  10329302124590727494 2017-06-01 2017-06-01   \n",
       "\n",
       "  one_user_registre date_for_buys  days_order  \n",
       "0        2017-06-01    2017-06-01           0  "
      ]
     },
     "execution_count": 166,
     "metadata": {},
     "output_type": "execute_result"
    }
   ],
   "source": [
    "# calculemos los días entre que se registran y hacen los pedidos\n",
    "registers_data['date_for_buys'] = registers_data['date_for_buys'].astype('datetime64[D]')\n",
    "registers_data['one_user_registre'] = registers_data['one_user_registre'].astype('datetime64[D]')\n",
    "registers_data['days_order'] = (registers_data['date_for_buys'] - registers_data['one_user_registre']).dt.days\n",
    "registers_data.head(1)"
   ]
  },
  {
   "cell_type": "code",
   "execution_count": 167,
   "metadata": {},
   "outputs": [
    {
     "data": {
      "text/html": [
       "<div>\n",
       "<style scoped>\n",
       "    .dataframe tbody tr th:only-of-type {\n",
       "        vertical-align: middle;\n",
       "    }\n",
       "\n",
       "    .dataframe tbody tr th {\n",
       "        vertical-align: top;\n",
       "    }\n",
       "\n",
       "    .dataframe thead th {\n",
       "        text-align: right;\n",
       "    }\n",
       "</style>\n",
       "<table border=\"1\" class=\"dataframe\">\n",
       "  <thead>\n",
       "    <tr style=\"text-align: right;\">\n",
       "      <th></th>\n",
       "      <th>revenue</th>\n",
       "      <th>uid</th>\n",
       "      <th>days_order</th>\n",
       "    </tr>\n",
       "  </thead>\n",
       "  <tbody>\n",
       "    <tr>\n",
       "      <th>count</th>\n",
       "      <td>50415.000000</td>\n",
       "      <td>5.041500e+04</td>\n",
       "      <td>50415.000000</td>\n",
       "    </tr>\n",
       "    <tr>\n",
       "      <th>mean</th>\n",
       "      <td>4.999647</td>\n",
       "      <td>9.098161e+18</td>\n",
       "      <td>17.611227</td>\n",
       "    </tr>\n",
       "    <tr>\n",
       "      <th>std</th>\n",
       "      <td>21.818359</td>\n",
       "      <td>5.285742e+18</td>\n",
       "      <td>46.469172</td>\n",
       "    </tr>\n",
       "    <tr>\n",
       "      <th>min</th>\n",
       "      <td>0.000000</td>\n",
       "      <td>3.135781e+14</td>\n",
       "      <td>0.000000</td>\n",
       "    </tr>\n",
       "    <tr>\n",
       "      <th>25%</th>\n",
       "      <td>1.220000</td>\n",
       "      <td>4.533567e+18</td>\n",
       "      <td>0.000000</td>\n",
       "    </tr>\n",
       "    <tr>\n",
       "      <th>50%</th>\n",
       "      <td>2.500000</td>\n",
       "      <td>9.102274e+18</td>\n",
       "      <td>0.000000</td>\n",
       "    </tr>\n",
       "    <tr>\n",
       "      <th>75%</th>\n",
       "      <td>4.890000</td>\n",
       "      <td>1.368290e+19</td>\n",
       "      <td>4.000000</td>\n",
       "    </tr>\n",
       "    <tr>\n",
       "      <th>max</th>\n",
       "      <td>2633.280000</td>\n",
       "      <td>1.844617e+19</td>\n",
       "      <td>363.000000</td>\n",
       "    </tr>\n",
       "  </tbody>\n",
       "</table>\n",
       "</div>"
      ],
      "text/plain": [
       "            revenue           uid    days_order\n",
       "count  50415.000000  5.041500e+04  50415.000000\n",
       "mean       4.999647  9.098161e+18     17.611227\n",
       "std       21.818359  5.285742e+18     46.469172\n",
       "min        0.000000  3.135781e+14      0.000000\n",
       "25%        1.220000  4.533567e+18      0.000000\n",
       "50%        2.500000  9.102274e+18      0.000000\n",
       "75%        4.890000  1.368290e+19      4.000000\n",
       "max     2633.280000  1.844617e+19    363.000000"
      ]
     },
     "execution_count": 167,
     "metadata": {},
     "output_type": "execute_result"
    }
   ],
   "source": [
    "# Vamos a ver la descripcion\n",
    "registers_data.describe()"
   ]
  },
  {
   "cell_type": "code",
   "execution_count": 168,
   "metadata": {},
   "outputs": [],
   "source": [
    "# Crearemos una función para asignar los cohortes en base a los días.\n",
    "def cohort(row):\n",
    "    dias = row['days_order']\n",
    "    \n",
    "    if (dias <= 0):\n",
    "        return '0 dias'\n",
    "    elif (0 < dias <= 1):\n",
    "        return '1 dias'\n",
    "    elif (1 < dias <= 2):\n",
    "        return '2 dias'\n",
    "    elif (2 < dias <= 3):\n",
    "        return '3 dias'\n",
    "    elif (3 < dias <= 4):\n",
    "        return '4 dias'\n",
    "    else:\n",
    "        return 'mas de 4 dias'"
   ]
  },
  {
   "cell_type": "code",
   "execution_count": 169,
   "metadata": {},
   "outputs": [
    {
     "data": {
      "text/html": [
       "<div>\n",
       "<style scoped>\n",
       "    .dataframe tbody tr th:only-of-type {\n",
       "        vertical-align: middle;\n",
       "    }\n",
       "\n",
       "    .dataframe tbody tr th {\n",
       "        vertical-align: top;\n",
       "    }\n",
       "\n",
       "    .dataframe thead th {\n",
       "        text-align: right;\n",
       "    }\n",
       "</style>\n",
       "<table border=\"1\" class=\"dataframe\">\n",
       "  <thead>\n",
       "    <tr style=\"text-align: right;\">\n",
       "      <th></th>\n",
       "      <th>buy_ts</th>\n",
       "      <th>revenue</th>\n",
       "      <th>uid</th>\n",
       "      <th>date_buys</th>\n",
       "      <th>month_buys</th>\n",
       "      <th>one_user_registre</th>\n",
       "      <th>date_for_buys</th>\n",
       "      <th>days_order</th>\n",
       "      <th>cohorte_days</th>\n",
       "    </tr>\n",
       "  </thead>\n",
       "  <tbody>\n",
       "    <tr>\n",
       "      <th>0</th>\n",
       "      <td>2017-06-01 00:10:00</td>\n",
       "      <td>17.0</td>\n",
       "      <td>10329302124590727494</td>\n",
       "      <td>2017-06-01</td>\n",
       "      <td>2017-06-01</td>\n",
       "      <td>2017-06-01</td>\n",
       "      <td>2017-06-01</td>\n",
       "      <td>0</td>\n",
       "      <td>0 dias</td>\n",
       "    </tr>\n",
       "  </tbody>\n",
       "</table>\n",
       "</div>"
      ],
      "text/plain": [
       "               buy_ts  revenue                   uid  date_buys month_buys  \\\n",
       "0 2017-06-01 00:10:00     17.0  10329302124590727494 2017-06-01 2017-06-01   \n",
       "\n",
       "  one_user_registre date_for_buys  days_order cohorte_days  \n",
       "0        2017-06-01    2017-06-01           0       0 dias  "
      ]
     },
     "execution_count": 169,
     "metadata": {},
     "output_type": "execute_result"
    }
   ],
   "source": [
    "# creamos la columna con los ohortes\n",
    "registers_data['cohorte_days'] = registers_data.apply(cohort, axis=1)\n",
    "registers_data.head(1)"
   ]
  },
  {
   "cell_type": "code",
   "execution_count": 170,
   "metadata": {},
   "outputs": [
    {
     "data": {
      "text/html": [
       "<style  type=\"text/css\" >\n",
       "</style><table id=\"T_3c01c_\" ><thead>    <tr>        <th class=\"blank level0\" ></th>        <th class=\"col_heading level0 col0\" >porcentaje</th>    </tr>    <tr>        <th class=\"index_name level0\" >cohorte_days</th>        <th class=\"blank\" ></th>    </tr></thead><tbody>\n",
       "                <tr>\n",
       "                        <th id=\"T_3c01c_level0_row0\" class=\"row_heading level0 row0\" >0 dias</th>\n",
       "                        <td id=\"T_3c01c_row0_col0\" class=\"data row0 col0\" >64.1%</td>\n",
       "            </tr>\n",
       "            <tr>\n",
       "                        <th id=\"T_3c01c_level0_row1\" class=\"row_heading level0 row1\" >mas de 4 dias</th>\n",
       "                        <td id=\"T_3c01c_row1_col0\" class=\"data row1 col0\" >24.8%</td>\n",
       "            </tr>\n",
       "            <tr>\n",
       "                        <th id=\"T_3c01c_level0_row2\" class=\"row_heading level0 row2\" >1 dias</th>\n",
       "                        <td id=\"T_3c01c_row2_col0\" class=\"data row2 col0\" >5.9%</td>\n",
       "            </tr>\n",
       "            <tr>\n",
       "                        <th id=\"T_3c01c_level0_row3\" class=\"row_heading level0 row3\" >2 dias</th>\n",
       "                        <td id=\"T_3c01c_row3_col0\" class=\"data row3 col0\" >2.3%</td>\n",
       "            </tr>\n",
       "            <tr>\n",
       "                        <th id=\"T_3c01c_level0_row4\" class=\"row_heading level0 row4\" >4 dias</th>\n",
       "                        <td id=\"T_3c01c_row4_col0\" class=\"data row4 col0\" >1.5%</td>\n",
       "            </tr>\n",
       "            <tr>\n",
       "                        <th id=\"T_3c01c_level0_row5\" class=\"row_heading level0 row5\" >3 dias</th>\n",
       "                        <td id=\"T_3c01c_row5_col0\" class=\"data row5 col0\" >1.4%</td>\n",
       "            </tr>\n",
       "    </tbody></table>"
      ],
      "text/plain": [
       "<pandas.io.formats.style.Styler at 0x7f8716c4b0a0>"
      ]
     },
     "execution_count": 170,
     "metadata": {},
     "output_type": "execute_result"
    }
   ],
   "source": [
    "reg = registers_data.shape[0]\n",
    "(registers_data.groupby('cohorte_days').agg(porcentaje = ('days_order', 'count')).sort_values(by= 'porcentaje', ascending=False)/reg).style.format('{:.1%}')"
   ]
  },
  {
   "cell_type": "markdown",
   "metadata": {},
   "source": [
    "**conclusion intermedia**\n",
    "- logramos observar que el 75% de los pedidos se realizan dentro de los primero 4 dias.\n",
    "- la mayor cantidad de pedidos se hacen en el dia 0 que tiene un 64%\n",
    "- Agregamos una columna donde indica cuantos dias se tardan entre que se registran y hacen su primera compra, esto lo identificamos de la siguiente manera:\n",
    "    - '0 dias', para aquellos usuarios cuya compra fue el mismo día de su registro.\n",
    "    - '1 dia', para aquellos usuarios cuya compra fue un día posterior a su registro.\n",
    "    - '2 dias', para aquellos usuarios cuya compra fue dos días posterior a su registro.\n",
    "    - '3 dias', para aquellos usuarios cuya compra fue tres días posterior a su registro.\n",
    "    - '4 dias', para aquellos usuarios cuya compra fue cuatro días posterior a su registro.\n",
    "    - 'Mas de 4 dias', para aquellos usuarios cuya compra fue mas de 4 días posterior a su registro.\n"
   ]
  },
  {
   "cell_type": "markdown",
   "metadata": {},
   "source": [
    "### ¿Cuántos pedidos hacen durante un período de tiempo dado?"
   ]
  },
  {
   "cell_type": "code",
   "execution_count": 171,
   "metadata": {},
   "outputs": [
    {
     "data": {
      "text/html": [
       "<div>\n",
       "<style scoped>\n",
       "    .dataframe tbody tr th:only-of-type {\n",
       "        vertical-align: middle;\n",
       "    }\n",
       "\n",
       "    .dataframe tbody tr th {\n",
       "        vertical-align: top;\n",
       "    }\n",
       "\n",
       "    .dataframe thead th {\n",
       "        text-align: right;\n",
       "    }\n",
       "</style>\n",
       "<table border=\"1\" class=\"dataframe\">\n",
       "  <thead>\n",
       "    <tr style=\"text-align: right;\">\n",
       "      <th></th>\n",
       "      <th>count</th>\n",
       "    </tr>\n",
       "    <tr>\n",
       "      <th>month_buys</th>\n",
       "      <th></th>\n",
       "    </tr>\n",
       "  </thead>\n",
       "  <tbody>\n",
       "    <tr>\n",
       "      <th>2017-12-01</th>\n",
       "      <td>6218</td>\n",
       "    </tr>\n",
       "    <tr>\n",
       "      <th>2017-10-01</th>\n",
       "      <td>5679</td>\n",
       "    </tr>\n",
       "    <tr>\n",
       "      <th>2017-11-01</th>\n",
       "      <td>5659</td>\n",
       "    </tr>\n",
       "    <tr>\n",
       "      <th>2018-03-01</th>\n",
       "      <td>5326</td>\n",
       "    </tr>\n",
       "    <tr>\n",
       "      <th>2018-02-01</th>\n",
       "      <td>5281</td>\n",
       "    </tr>\n",
       "    <tr>\n",
       "      <th>2018-01-01</th>\n",
       "      <td>4721</td>\n",
       "    </tr>\n",
       "    <tr>\n",
       "      <th>2018-05-01</th>\n",
       "      <td>4346</td>\n",
       "    </tr>\n",
       "    <tr>\n",
       "      <th>2017-09-01</th>\n",
       "      <td>3387</td>\n",
       "    </tr>\n",
       "    <tr>\n",
       "      <th>2018-04-01</th>\n",
       "      <td>3273</td>\n",
       "    </tr>\n",
       "    <tr>\n",
       "      <th>2017-07-01</th>\n",
       "      <td>2363</td>\n",
       "    </tr>\n",
       "    <tr>\n",
       "      <th>2017-06-01</th>\n",
       "      <td>2354</td>\n",
       "    </tr>\n",
       "    <tr>\n",
       "      <th>2017-08-01</th>\n",
       "      <td>1807</td>\n",
       "    </tr>\n",
       "    <tr>\n",
       "      <th>2018-06-01</th>\n",
       "      <td>1</td>\n",
       "    </tr>\n",
       "  </tbody>\n",
       "</table>\n",
       "</div>"
      ],
      "text/plain": [
       "            count\n",
       "month_buys       \n",
       "2017-12-01   6218\n",
       "2017-10-01   5679\n",
       "2017-11-01   5659\n",
       "2018-03-01   5326\n",
       "2018-02-01   5281\n",
       "2018-01-01   4721\n",
       "2018-05-01   4346\n",
       "2017-09-01   3387\n",
       "2018-04-01   3273\n",
       "2017-07-01   2363\n",
       "2017-06-01   2354\n",
       "2017-08-01   1807\n",
       "2018-06-01      1"
      ]
     },
     "execution_count": 171,
     "metadata": {},
     "output_type": "execute_result"
    }
   ],
   "source": [
    "# Compras realizada por mes \n",
    "total_pedidos_month = registers_data.groupby('month_buys').agg(count = ('uid','count'))\n",
    "total_pedidos_month.sort_values(by= 'count', ascending=False)"
   ]
  },
  {
   "cell_type": "code",
   "execution_count": 172,
   "metadata": {},
   "outputs": [
    {
     "data": {
      "image/png": "[encoded data removed]",
      "text/plain": [
       "<Figure size 864x360 with 1 Axes>"
      ]
     },
     "metadata": {
      "needs_background": "light"
     },
     "output_type": "display_data"
    }
   ],
   "source": [
    "# creamos una gráfica de barras para observar la cantidad de compras realizadas mes a mes\n",
    "f,ax = plt.subplots(figsize=(12,5))\n",
    "sns.barplot(data=total_pedidos_month, x= total_pedidos_month.index.astype(str), y='count')\n",
    "for rect in ax.patches:\n",
    "    y_value = rect.get_height()\n",
    "    x_value = rect.get_x() + rect.get_width() / 2\n",
    "    space = 3\n",
    "    label = \"{:.0f}\".format(y_value)\n",
    "    ax.annotate(\n",
    "        label,                     \n",
    "        (x_value, y_value),         \n",
    "        xytext=(0, space),          \n",
    "        textcoords=\"offset points\", \n",
    "        ha='center',                \n",
    "        va='bottom')     \n",
    "plt.ylim(0, total_pedidos_month['count'].max()*1.1)\n",
    "plt.title('Cantidad de compras por mes')\n",
    "plt.ylabel('Cantidad de compras')\n",
    "plt.xticks(rotation=45, ha='right')\n",
    "plt.show()"
   ]
  },
  {
   "cell_type": "markdown",
   "metadata": {},
   "source": [
    "**conclusion intermedia**\n",
    "- Con esto logramos obtener cuantos pedidos se realizan por fecha y podemos observar que la mayor cantidad de pedidos se realizaron en diciembre del 2017\n",
    "- El mes con menos pedidos fue en junio del 2018\n"
   ]
  },
  {
   "cell_type": "markdown",
   "metadata": {},
   "source": [
    "### ¿Cuál es el tamaño promedió de compra?"
   ]
  },
  {
   "cell_type": "code",
   "execution_count": 173,
   "metadata": {},
   "outputs": [
    {
     "data": {
      "text/html": [
       "<div>\n",
       "<style scoped>\n",
       "    .dataframe tbody tr th:only-of-type {\n",
       "        vertical-align: middle;\n",
       "    }\n",
       "\n",
       "    .dataframe tbody tr th {\n",
       "        vertical-align: top;\n",
       "    }\n",
       "\n",
       "    .dataframe thead th {\n",
       "        text-align: right;\n",
       "    }\n",
       "</style>\n",
       "<table border=\"1\" class=\"dataframe\">\n",
       "  <thead>\n",
       "    <tr style=\"text-align: right;\">\n",
       "      <th></th>\n",
       "      <th>buy_ts</th>\n",
       "      <th>revenue</th>\n",
       "      <th>uid</th>\n",
       "      <th>date_buys</th>\n",
       "      <th>month_buys</th>\n",
       "      <th>one_user_registre</th>\n",
       "      <th>date_for_buys</th>\n",
       "      <th>days_order</th>\n",
       "      <th>cohorte_days</th>\n",
       "      <th>month_for_buys</th>\n",
       "    </tr>\n",
       "  </thead>\n",
       "  <tbody>\n",
       "    <tr>\n",
       "      <th>0</th>\n",
       "      <td>2017-06-01 00:10:00</td>\n",
       "      <td>17.0</td>\n",
       "      <td>10329302124590727494</td>\n",
       "      <td>2017-06-01</td>\n",
       "      <td>2017-06-01</td>\n",
       "      <td>2017-06-01</td>\n",
       "      <td>2017-06-01</td>\n",
       "      <td>0</td>\n",
       "      <td>0 dias</td>\n",
       "      <td>2017-06-01</td>\n",
       "    </tr>\n",
       "  </tbody>\n",
       "</table>\n",
       "</div>"
      ],
      "text/plain": [
       "               buy_ts  revenue                   uid  date_buys month_buys  \\\n",
       "0 2017-06-01 00:10:00     17.0  10329302124590727494 2017-06-01 2017-06-01   \n",
       "\n",
       "  one_user_registre date_for_buys  days_order cohorte_days month_for_buys  \n",
       "0        2017-06-01    2017-06-01           0       0 dias     2017-06-01  "
      ]
     },
     "execution_count": 173,
     "metadata": {},
     "output_type": "execute_result"
    }
   ],
   "source": [
    "# creamos las cohortes mensuales por su mes de compra\n",
    "registers_data['month_for_buys'] = registers_data['date_for_buys'].astype('datetime64[M]')\n",
    "registers_data.head(1)"
   ]
  },
  {
   "cell_type": "code",
   "execution_count": 174,
   "metadata": {},
   "outputs": [
    {
     "data": {
      "text/html": [
       "<div>\n",
       "<style scoped>\n",
       "    .dataframe tbody tr th:only-of-type {\n",
       "        vertical-align: middle;\n",
       "    }\n",
       "\n",
       "    .dataframe tbody tr th {\n",
       "        vertical-align: top;\n",
       "    }\n",
       "\n",
       "    .dataframe thead th {\n",
       "        text-align: right;\n",
       "    }\n",
       "</style>\n",
       "<table border=\"1\" class=\"dataframe\">\n",
       "  <thead>\n",
       "    <tr style=\"text-align: right;\">\n",
       "      <th></th>\n",
       "      <th>month_for_buys</th>\n",
       "      <th>month_buys</th>\n",
       "      <th>median</th>\n",
       "    </tr>\n",
       "  </thead>\n",
       "  <tbody>\n",
       "    <tr>\n",
       "      <th>0</th>\n",
       "      <td>2017-06-01</td>\n",
       "      <td>2017-06-01</td>\n",
       "      <td>2.44</td>\n",
       "    </tr>\n",
       "  </tbody>\n",
       "</table>\n",
       "</div>"
      ],
      "text/plain": [
       "  month_for_buys month_buys  median\n",
       "0     2017-06-01 2017-06-01    2.44"
      ]
     },
     "execution_count": 174,
     "metadata": {},
     "output_type": "execute_result"
    }
   ],
   "source": [
    "purchase = registers_data.groupby(['month_for_buys','month_buys']).agg(median= ('revenue','median')).reset_index()\n",
    "purchase.head(1)"
   ]
  },
  {
   "cell_type": "code",
   "execution_count": 175,
   "metadata": {},
   "outputs": [],
   "source": [
    "# calculamos los meses que han transcurrido desde su primera compra hasta el pedido actual\n",
    "purchase['age_month'] = (purchase['month_buys'] - purchase['month_for_buys'])/np.timedelta64(1,'M')\n",
    "purchase['age_month'] = purchase['age_month'].round().astype(int)"
   ]
  },
  {
   "cell_type": "code",
   "execution_count": 176,
   "metadata": {},
   "outputs": [
    {
     "data": {
      "image/png": "[encoded data removed]",
      "text/plain": [
       "<Figure size 720x864 with 2 Axes>"
      ]
     },
     "metadata": {
      "needs_background": "light"
     },
     "output_type": "display_data"
    }
   ],
   "source": [
    "# calculamos las ventas promedio mensuales para cada cohorte\n",
    "pur = purchase.pivot_table(index= 'month_for_buys', columns='age_month', values='median', aggfunc='mean')\n",
    "pur.fillna('')\n",
    "\n",
    "pur.index = pur.index.astype(str)\n",
    "plt.figure(figsize=(10,12))\n",
    "plt.title('Ventas por mes para cada cohorte')\n",
    "ax = sns.heatmap(pur, annot=True, fmt='.2f', linecolor='black', linewidths=1) \n",
    "plt.show()"
   ]
  },
  {
   "cell_type": "code",
   "execution_count": 177,
   "metadata": {},
   "outputs": [
    {
     "data": {
      "text/html": [
       "<div>\n",
       "<style scoped>\n",
       "    .dataframe tbody tr th:only-of-type {\n",
       "        vertical-align: middle;\n",
       "    }\n",
       "\n",
       "    .dataframe tbody tr th {\n",
       "        vertical-align: top;\n",
       "    }\n",
       "\n",
       "    .dataframe thead th {\n",
       "        text-align: right;\n",
       "    }\n",
       "</style>\n",
       "<table border=\"1\" class=\"dataframe\">\n",
       "  <thead>\n",
       "    <tr style=\"text-align: right;\">\n",
       "      <th></th>\n",
       "      <th>count</th>\n",
       "      <th>sum</th>\n",
       "      <th>mean</th>\n",
       "    </tr>\n",
       "    <tr>\n",
       "      <th>cohorte_days</th>\n",
       "      <th></th>\n",
       "      <th></th>\n",
       "      <th></th>\n",
       "    </tr>\n",
       "  </thead>\n",
       "  <tbody>\n",
       "    <tr>\n",
       "      <th>mas de 4 dias</th>\n",
       "      <td>12492</td>\n",
       "      <td>76018.89</td>\n",
       "      <td>6.085406</td>\n",
       "    </tr>\n",
       "    <tr>\n",
       "      <th>4 dias</th>\n",
       "      <td>757</td>\n",
       "      <td>4475.40</td>\n",
       "      <td>5.912021</td>\n",
       "    </tr>\n",
       "    <tr>\n",
       "      <th>2 dias</th>\n",
       "      <td>1154</td>\n",
       "      <td>6401.00</td>\n",
       "      <td>5.546794</td>\n",
       "    </tr>\n",
       "    <tr>\n",
       "      <th>1 dias</th>\n",
       "      <td>2971</td>\n",
       "      <td>14804.82</td>\n",
       "      <td>4.983110</td>\n",
       "    </tr>\n",
       "    <tr>\n",
       "      <th>3 dias</th>\n",
       "      <td>707</td>\n",
       "      <td>3284.34</td>\n",
       "      <td>4.645460</td>\n",
       "    </tr>\n",
       "    <tr>\n",
       "      <th>0 dias</th>\n",
       "      <td>32334</td>\n",
       "      <td>147072.75</td>\n",
       "      <td>4.548548</td>\n",
       "    </tr>\n",
       "  </tbody>\n",
       "</table>\n",
       "</div>"
      ],
      "text/plain": [
       "               count        sum      mean\n",
       "cohorte_days                             \n",
       "mas de 4 dias  12492   76018.89  6.085406\n",
       "4 dias           757    4475.40  5.912021\n",
       "2 dias          1154    6401.00  5.546794\n",
       "1 dias          2971   14804.82  4.983110\n",
       "3 dias           707    3284.34  4.645460\n",
       "0 dias         32334  147072.75  4.548548"
      ]
     },
     "execution_count": 177,
     "metadata": {},
     "output_type": "execute_result"
    }
   ],
   "source": [
    "# obtenemos la cantidad de compradores y el total de las compras\n",
    "revenue = registers_data.groupby('cohorte_days').agg(count = ('uid','count'), sum = ('revenue','sum'), mean = ('revenue','mean'))\\\n",
    "                                .sort_values(by='mean', ascending=False)\n",
    "revenue"
   ]
  },
  {
   "cell_type": "code",
   "execution_count": 178,
   "metadata": {},
   "outputs": [
    {
     "data": {
      "image/png": "[encoded data removed]",
      "text/plain": [
       "<Figure size 720x432 with 1 Axes>"
      ]
     },
     "metadata": {
      "needs_background": "light"
     },
     "output_type": "display_data"
    }
   ],
   "source": [
    "# creamos un gráfico para mostrar las ventas totales por mes y cohorte de conversión\n",
    "coho = registers_data[['cohorte_days', 'month_buys', 'revenue']]\\\n",
    "            .pivot_table(index= 'month_buys', columns= 'cohorte_days', values= 'revenue', aggfunc='sum')\\\n",
    "            .plot(style='o-', figsize=(10,6))\n",
    "plt.ylabel('Ventas totales')\n",
    "plt.title('ventas totales mensuales, por cohorte')\n",
    "plt.show()"
   ]
  },
  {
   "cell_type": "markdown",
   "metadata": {},
   "source": [
    "**conclusión intermedia**\n",
    "- Notamos que el total promedio gastado en cada compra es mayor para los usuarios que realizaron su primera compra después de cuatro días, y que es menor para los usuarios que realizaron su primera compra el mismo día de su registro.\n",
    "- Podemos notar también que las ventas totales y la cantidad de compras realizadas por los usuarios que realizaron su primera compra en el mismo día de su registro es mayor. Le sigue en orden de importancia los usuarios que realizaron su primera compra después de cuatro días de su registro."
   ]
  },
  {
   "cell_type": "markdown",
   "metadata": {},
   "source": [
    "### ¿Cuánto dinero traen? (LTV)"
   ]
  },
  {
   "cell_type": "code",
   "execution_count": 179,
   "metadata": {},
   "outputs": [
    {
     "data": {
      "text/html": [
       "<div>\n",
       "<style scoped>\n",
       "    .dataframe tbody tr th:only-of-type {\n",
       "        vertical-align: middle;\n",
       "    }\n",
       "\n",
       "    .dataframe tbody tr th {\n",
       "        vertical-align: top;\n",
       "    }\n",
       "\n",
       "    .dataframe thead th {\n",
       "        text-align: right;\n",
       "    }\n",
       "</style>\n",
       "<table border=\"1\" class=\"dataframe\">\n",
       "  <thead>\n",
       "    <tr style=\"text-align: right;\">\n",
       "      <th></th>\n",
       "      <th>buy_ts</th>\n",
       "      <th>revenue</th>\n",
       "      <th>uid</th>\n",
       "      <th>date_buys</th>\n",
       "      <th>month_buys</th>\n",
       "      <th>one_user_registre</th>\n",
       "      <th>date_for_buys</th>\n",
       "      <th>days_order</th>\n",
       "      <th>cohorte_days</th>\n",
       "      <th>month_for_buys</th>\n",
       "    </tr>\n",
       "  </thead>\n",
       "  <tbody>\n",
       "    <tr>\n",
       "      <th>0</th>\n",
       "      <td>2017-06-01 00:10:00</td>\n",
       "      <td>17.0</td>\n",
       "      <td>10329302124590727494</td>\n",
       "      <td>2017-06-01</td>\n",
       "      <td>2017-06-01</td>\n",
       "      <td>2017-06-01</td>\n",
       "      <td>2017-06-01</td>\n",
       "      <td>0</td>\n",
       "      <td>0 dias</td>\n",
       "      <td>2017-06-01</td>\n",
       "    </tr>\n",
       "  </tbody>\n",
       "</table>\n",
       "</div>"
      ],
      "text/plain": [
       "               buy_ts  revenue                   uid  date_buys month_buys  \\\n",
       "0 2017-06-01 00:10:00     17.0  10329302124590727494 2017-06-01 2017-06-01   \n",
       "\n",
       "  one_user_registre date_for_buys  days_order cohorte_days month_for_buys  \n",
       "0        2017-06-01    2017-06-01           0       0 dias     2017-06-01  "
      ]
     },
     "execution_count": 179,
     "metadata": {},
     "output_type": "execute_result"
    }
   ],
   "source": [
    "# mostraremos nuestra dataframe de lo registros.\n",
    "registers_data.head(1)"
   ]
  },
  {
   "cell_type": "code",
   "execution_count": 180,
   "metadata": {},
   "outputs": [
    {
     "data": {
      "text/html": [
       "<div>\n",
       "<style scoped>\n",
       "    .dataframe tbody tr th:only-of-type {\n",
       "        vertical-align: middle;\n",
       "    }\n",
       "\n",
       "    .dataframe tbody tr th {\n",
       "        vertical-align: top;\n",
       "    }\n",
       "\n",
       "    .dataframe thead th {\n",
       "        text-align: right;\n",
       "    }\n",
       "</style>\n",
       "<table border=\"1\" class=\"dataframe\">\n",
       "  <thead>\n",
       "    <tr style=\"text-align: right;\">\n",
       "      <th></th>\n",
       "      <th>buys_n</th>\n",
       "    </tr>\n",
       "    <tr>\n",
       "      <th>month_for_buys</th>\n",
       "      <th></th>\n",
       "    </tr>\n",
       "  </thead>\n",
       "  <tbody>\n",
       "    <tr>\n",
       "      <th>2017-06-01</th>\n",
       "      <td>2023</td>\n",
       "    </tr>\n",
       "  </tbody>\n",
       "</table>\n",
       "</div>"
      ],
      "text/plain": [
       "                buys_n\n",
       "month_for_buys        \n",
       "2017-06-01        2023"
      ]
     },
     "execution_count": 180,
     "metadata": {},
     "output_type": "execute_result"
    }
   ],
   "source": [
    "# obtengamos el tamaño de las cohortes mensuales en base a la fecha de su primera compra\n",
    "cohort_age = registers_data.groupby('month_for_buys').agg(buys_n = ('uid','nunique'))\n",
    "cohort_age.head(1)"
   ]
  },
  {
   "cell_type": "code",
   "execution_count": 181,
   "metadata": {},
   "outputs": [
    {
     "data": {
      "text/html": [
       "<div>\n",
       "<style scoped>\n",
       "    .dataframe tbody tr th:only-of-type {\n",
       "        vertical-align: middle;\n",
       "    }\n",
       "\n",
       "    .dataframe tbody tr th {\n",
       "        vertical-align: top;\n",
       "    }\n",
       "\n",
       "    .dataframe thead th {\n",
       "        text-align: right;\n",
       "    }\n",
       "</style>\n",
       "<table border=\"1\" class=\"dataframe\">\n",
       "  <thead>\n",
       "    <tr style=\"text-align: right;\">\n",
       "      <th></th>\n",
       "      <th>month_for_buys</th>\n",
       "      <th>month_buys</th>\n",
       "      <th>revenue</th>\n",
       "    </tr>\n",
       "  </thead>\n",
       "  <tbody>\n",
       "    <tr>\n",
       "      <th>0</th>\n",
       "      <td>2017-06-01</td>\n",
       "      <td>2017-06-01</td>\n",
       "      <td>9557.49</td>\n",
       "    </tr>\n",
       "  </tbody>\n",
       "</table>\n",
       "</div>"
      ],
      "text/plain": [
       "  month_for_buys month_buys  revenue\n",
       "0     2017-06-01 2017-06-01  9557.49"
      ]
     },
     "execution_count": 181,
     "metadata": {},
     "output_type": "execute_result"
    }
   ],
   "source": [
    "coho_revenue = registers_data.groupby(['month_for_buys','month_buys']).agg(revenue = ('revenue','sum')).reset_index()\n",
    "coho_revenue.head(1)"
   ]
  },
  {
   "cell_type": "code",
   "execution_count": 182,
   "metadata": {},
   "outputs": [
    {
     "data": {
      "text/html": [
       "<div>\n",
       "<style scoped>\n",
       "    .dataframe tbody tr th:only-of-type {\n",
       "        vertical-align: middle;\n",
       "    }\n",
       "\n",
       "    .dataframe tbody tr th {\n",
       "        vertical-align: top;\n",
       "    }\n",
       "\n",
       "    .dataframe thead th {\n",
       "        text-align: right;\n",
       "    }\n",
       "</style>\n",
       "<table border=\"1\" class=\"dataframe\">\n",
       "  <thead>\n",
       "    <tr style=\"text-align: right;\">\n",
       "      <th></th>\n",
       "      <th>month_for_buys</th>\n",
       "      <th>month_buys</th>\n",
       "      <th>revenue</th>\n",
       "      <th>buys_n</th>\n",
       "    </tr>\n",
       "  </thead>\n",
       "  <tbody>\n",
       "    <tr>\n",
       "      <th>0</th>\n",
       "      <td>2017-06-01</td>\n",
       "      <td>2017-06-01</td>\n",
       "      <td>9557.49</td>\n",
       "      <td>2023</td>\n",
       "    </tr>\n",
       "  </tbody>\n",
       "</table>\n",
       "</div>"
      ],
      "text/plain": [
       "  month_for_buys month_buys  revenue  buys_n\n",
       "0     2017-06-01 2017-06-01  9557.49    2023"
      ]
     },
     "execution_count": 182,
     "metadata": {},
     "output_type": "execute_result"
    }
   ],
   "source": [
    "# agregamos ahora el tamaño de los cohortes con su ventas totales por mes\n",
    "pedidos_for = pd.merge(coho_revenue, cohort_age, on= 'month_for_buys')\n",
    "pedidos_for.head(1)"
   ]
  },
  {
   "cell_type": "code",
   "execution_count": 183,
   "metadata": {},
   "outputs": [
    {
     "data": {
      "text/html": [
       "<div>\n",
       "<style scoped>\n",
       "    .dataframe tbody tr th:only-of-type {\n",
       "        vertical-align: middle;\n",
       "    }\n",
       "\n",
       "    .dataframe tbody tr th {\n",
       "        vertical-align: top;\n",
       "    }\n",
       "\n",
       "    .dataframe thead th {\n",
       "        text-align: right;\n",
       "    }\n",
       "</style>\n",
       "<table border=\"1\" class=\"dataframe\">\n",
       "  <thead>\n",
       "    <tr style=\"text-align: right;\">\n",
       "      <th></th>\n",
       "      <th>month_for_buys</th>\n",
       "      <th>month_buys</th>\n",
       "      <th>revenue</th>\n",
       "      <th>buys_n</th>\n",
       "      <th>benef_coho_brut</th>\n",
       "    </tr>\n",
       "  </thead>\n",
       "  <tbody>\n",
       "    <tr>\n",
       "      <th>0</th>\n",
       "      <td>2017-06-01</td>\n",
       "      <td>2017-06-01</td>\n",
       "      <td>9557.49</td>\n",
       "      <td>2023</td>\n",
       "      <td>9557.49</td>\n",
       "    </tr>\n",
       "  </tbody>\n",
       "</table>\n",
       "</div>"
      ],
      "text/plain": [
       "  month_for_buys month_buys  revenue  buys_n  benef_coho_brut\n",
       "0     2017-06-01 2017-06-01  9557.49    2023          9557.49"
      ]
     },
     "execution_count": 183,
     "metadata": {},
     "output_type": "execute_result"
    }
   ],
   "source": [
    "# obtengamos el beneficio bruto de cada cohorte\n",
    "margin_rate = 1\n",
    "pedidos_for['benef_coho_brut'] = pedidos_for['revenue'] * margin_rate\n",
    "pedidos_for.head(1)"
   ]
  },
  {
   "cell_type": "code",
   "execution_count": 184,
   "metadata": {},
   "outputs": [
    {
     "data": {
      "text/html": [
       "<div>\n",
       "<style scoped>\n",
       "    .dataframe tbody tr th:only-of-type {\n",
       "        vertical-align: middle;\n",
       "    }\n",
       "\n",
       "    .dataframe tbody tr th {\n",
       "        vertical-align: top;\n",
       "    }\n",
       "\n",
       "    .dataframe thead th {\n",
       "        text-align: right;\n",
       "    }\n",
       "</style>\n",
       "<table border=\"1\" class=\"dataframe\">\n",
       "  <thead>\n",
       "    <tr style=\"text-align: right;\">\n",
       "      <th></th>\n",
       "      <th>month_for_buys</th>\n",
       "      <th>month_buys</th>\n",
       "      <th>revenue</th>\n",
       "      <th>buys_n</th>\n",
       "      <th>benef_coho_brut</th>\n",
       "      <th>age_coho</th>\n",
       "    </tr>\n",
       "  </thead>\n",
       "  <tbody>\n",
       "    <tr>\n",
       "      <th>0</th>\n",
       "      <td>2017-06-01</td>\n",
       "      <td>2017-06-01</td>\n",
       "      <td>9557.49</td>\n",
       "      <td>2023</td>\n",
       "      <td>9557.49</td>\n",
       "      <td>0</td>\n",
       "    </tr>\n",
       "  </tbody>\n",
       "</table>\n",
       "</div>"
      ],
      "text/plain": [
       "  month_for_buys month_buys  revenue  buys_n  benef_coho_brut  age_coho\n",
       "0     2017-06-01 2017-06-01  9557.49    2023          9557.49         0"
      ]
     },
     "execution_count": 184,
     "metadata": {},
     "output_type": "execute_result"
    }
   ],
   "source": [
    "# obtengamos la edad de cada cohorte en meses\n",
    "pedidos_for['age_coho'] = (pedidos_for['month_buys'] - pedidos_for['month_for_buys'])/np.timedelta64(1,'M')\n",
    "pedidos_for['age_coho'] = pedidos_for['age_coho'].round().astype('int')\n",
    "pedidos_for.head(1)"
   ]
  },
  {
   "cell_type": "code",
   "execution_count": 185,
   "metadata": {},
   "outputs": [
    {
     "data": {
      "text/html": [
       "<div>\n",
       "<style scoped>\n",
       "    .dataframe tbody tr th:only-of-type {\n",
       "        vertical-align: middle;\n",
       "    }\n",
       "\n",
       "    .dataframe tbody tr th {\n",
       "        vertical-align: top;\n",
       "    }\n",
       "\n",
       "    .dataframe thead th {\n",
       "        text-align: right;\n",
       "    }\n",
       "</style>\n",
       "<table border=\"1\" class=\"dataframe\">\n",
       "  <thead>\n",
       "    <tr style=\"text-align: right;\">\n",
       "      <th></th>\n",
       "      <th>month_for_buys</th>\n",
       "      <th>month_buys</th>\n",
       "      <th>revenue</th>\n",
       "      <th>buys_n</th>\n",
       "      <th>benef_coho_brut</th>\n",
       "      <th>age_coho</th>\n",
       "      <th>lifetime_value</th>\n",
       "    </tr>\n",
       "  </thead>\n",
       "  <tbody>\n",
       "    <tr>\n",
       "      <th>0</th>\n",
       "      <td>2017-06-01</td>\n",
       "      <td>2017-06-01</td>\n",
       "      <td>9557.49</td>\n",
       "      <td>2023</td>\n",
       "      <td>9557.49</td>\n",
       "      <td>0</td>\n",
       "      <td>4.724414</td>\n",
       "    </tr>\n",
       "  </tbody>\n",
       "</table>\n",
       "</div>"
      ],
      "text/plain": [
       "  month_for_buys month_buys  revenue  buys_n  benef_coho_brut  age_coho  \\\n",
       "0     2017-06-01 2017-06-01  9557.49    2023          9557.49         0   \n",
       "\n",
       "   lifetime_value  \n",
       "0        4.724414  "
      ]
     },
     "execution_count": 185,
     "metadata": {},
     "output_type": "execute_result"
    }
   ],
   "source": [
    "# obtengamos el LTV\n",
    "pedidos_for['lifetime_value'] = pedidos_for['benef_coho_brut'] / pedidos_for['buys_n']\n",
    "pedidos_for.head(1)"
   ]
  },
  {
   "cell_type": "code",
   "execution_count": 186,
   "metadata": {},
   "outputs": [
    {
     "data": {
      "image/png": "[encoded data removed]",
      "text/plain": [
       "<Figure size 720x864 with 2 Axes>"
      ]
     },
     "metadata": {
      "needs_background": "light"
     },
     "output_type": "display_data"
    }
   ],
   "source": [
    "# obtengamos el LTV de cada cohorte por medio de una tabla\n",
    "put = pedidos_for.pivot_table(index='month_for_buys', columns='age_coho', values= 'lifetime_value', aggfunc='sum').cumsum(axis=1)\n",
    "put.fillna('')\n",
    "\n",
    "put.index = put.index.astype(str)\n",
    "plt.figure(figsize=(10,12))\n",
    "plt.title('LifeTime Value')\n",
    "ax = sns.heatmap(put, annot=True, fmt='.2f', linecolor='black', linewidths=1) \n",
    "ax.xaxis.tick_top()\n",
    "plt.show()"
   ]
  },
  {
   "cell_type": "markdown",
   "metadata": {},
   "source": [
    "**conclusión promedio**\n",
    "- En promedio, para la cohorte '2017-06-01' cada cliente generó 11.87 en ingresos durante su ciclo de vida de doce meses. Sin embargo, la cohorte que generó ingresos promedio por cliente más altos fue '2017-09-01' con 13.44, durante sus nueve meses de vida."
   ]
  },
  {
   "cell_type": "markdown",
   "metadata": {},
   "source": [
    "## Informes y métricas de marketing."
   ]
  },
  {
   "cell_type": "markdown",
   "metadata": {},
   "source": [
    "### ¿Cuánto dinero se gasto? "
   ]
  },
  {
   "cell_type": "code",
   "execution_count": 187,
   "metadata": {},
   "outputs": [
    {
     "data": {
      "text/html": [
       "<div>\n",
       "<style scoped>\n",
       "    .dataframe tbody tr th:only-of-type {\n",
       "        vertical-align: middle;\n",
       "    }\n",
       "\n",
       "    .dataframe tbody tr th {\n",
       "        vertical-align: top;\n",
       "    }\n",
       "\n",
       "    .dataframe thead th {\n",
       "        text-align: right;\n",
       "    }\n",
       "</style>\n",
       "<table border=\"1\" class=\"dataframe\">\n",
       "  <thead>\n",
       "    <tr style=\"text-align: right;\">\n",
       "      <th></th>\n",
       "      <th>source_id</th>\n",
       "      <th>dt</th>\n",
       "      <th>costs</th>\n",
       "    </tr>\n",
       "  </thead>\n",
       "  <tbody>\n",
       "    <tr>\n",
       "      <th>0</th>\n",
       "      <td>1</td>\n",
       "      <td>2017-06-01</td>\n",
       "      <td>75.2</td>\n",
       "    </tr>\n",
       "  </tbody>\n",
       "</table>\n",
       "</div>"
      ],
      "text/plain": [
       "   source_id         dt  costs\n",
       "0          1 2017-06-01   75.2"
      ]
     },
     "execution_count": 187,
     "metadata": {},
     "output_type": "execute_result"
    }
   ],
   "source": [
    "# veamos nuestra tabala de costos \n",
    "costs_data.head(1)"
   ]
  },
  {
   "cell_type": "code",
   "execution_count": 188,
   "metadata": {},
   "outputs": [
    {
     "data": {
      "text/html": [
       "<div>\n",
       "<style scoped>\n",
       "    .dataframe tbody tr th:only-of-type {\n",
       "        vertical-align: middle;\n",
       "    }\n",
       "\n",
       "    .dataframe tbody tr th {\n",
       "        vertical-align: top;\n",
       "    }\n",
       "\n",
       "    .dataframe thead th {\n",
       "        text-align: right;\n",
       "    }\n",
       "</style>\n",
       "<table border=\"1\" class=\"dataframe\">\n",
       "  <thead>\n",
       "    <tr style=\"text-align: right;\">\n",
       "      <th></th>\n",
       "      <th>source_id</th>\n",
       "      <th>dt</th>\n",
       "      <th>costs</th>\n",
       "      <th>month_mark</th>\n",
       "    </tr>\n",
       "  </thead>\n",
       "  <tbody>\n",
       "    <tr>\n",
       "      <th>0</th>\n",
       "      <td>1</td>\n",
       "      <td>2017-06-01</td>\n",
       "      <td>75.2</td>\n",
       "      <td>2017-06-01</td>\n",
       "    </tr>\n",
       "  </tbody>\n",
       "</table>\n",
       "</div>"
      ],
      "text/plain": [
       "   source_id         dt  costs month_mark\n",
       "0          1 2017-06-01   75.2 2017-06-01"
      ]
     },
     "execution_count": 188,
     "metadata": {},
     "output_type": "execute_result"
    }
   ],
   "source": [
    "\n",
    "# obtenemos el mes correspondiente a la fecha de gastos en marketing\n",
    "costs_data['month_mark'] = costs_data['dt'].astype('datetime64[M]')\n",
    "costs_data.head(1)"
   ]
  },
  {
   "cell_type": "code",
   "execution_count": 189,
   "metadata": {},
   "outputs": [
    {
     "data": {
      "image/png": "[encoded data removed]",
      "text/plain": [
       "<Figure size 576x1080 with 2 Axes>"
      ]
     },
     "metadata": {
      "needs_background": "light"
     },
     "output_type": "display_data"
    }
   ],
   "source": [
    "costs = costs_data.pivot_table(index= 'month_mark', columns= 'source_id', values= 'costs', aggfunc='sum')\n",
    "\n",
    "costs.index = costs.index.astype(str)\n",
    "plt.figure(figsize=(8,15))\n",
    "plt.title('Gastos mensuales en marketing por tipo de fuente')\n",
    "ax = sns.heatmap(costs, annot=True, fmt='.2f', linecolor='black', linewidths= 1)\n",
    "plt.show()"
   ]
  },
  {
   "cell_type": "code",
   "execution_count": 190,
   "metadata": {},
   "outputs": [
    {
     "data": {
      "text/plain": [
       "source_id\n",
       "10      5822.49\n",
       "9       5517.49\n",
       "5      51757.10\n",
       "4      61073.60\n",
       "3     141321.63\n",
       "2      42806.04\n",
       "1      20833.27\n",
       "dtype: float64"
      ]
     },
     "execution_count": 190,
     "metadata": {},
     "output_type": "execute_result"
    }
   ],
   "source": [
    "# mostramos los gastos totales por tipo de fuente\n",
    "costs.sum().sort_index(ascending=False)"
   ]
  },
  {
   "cell_type": "code",
   "execution_count": 191,
   "metadata": {},
   "outputs": [
    {
     "data": {
      "text/plain": [
       "month_mark\n",
       "2018-05-01    22224.27\n",
       "2018-04-01    22289.38\n",
       "2018-03-01    30415.27\n",
       "2018-02-01    32723.03\n",
       "2018-01-01    33518.52\n",
       "2017-12-01    38315.35\n",
       "2017-11-01    37907.88\n",
       "2017-10-01    36322.88\n",
       "2017-09-01    24368.91\n",
       "2017-08-01    14790.54\n",
       "2017-07-01    18240.59\n",
       "2017-06-01    18015.00\n",
       "dtype: float64"
      ]
     },
     "execution_count": 191,
     "metadata": {},
     "output_type": "execute_result"
    }
   ],
   "source": [
    "# mostramos los gastos totales mensuales\n",
    "costs.sum(axis=1).sort_index(ascending=False)"
   ]
  },
  {
   "cell_type": "markdown",
   "metadata": {},
   "source": [
    "**Conclusión intermedia**\n",
    "- podemos observar que la fuente numero 3 fue la que tuvo mayor costo de marketing comparado con la fuente tipo 9 y 10.\n",
    "- y con los gastos mensuales, en octubre de 2017 a marzo del 2018 se hicieron los mayores gastos en marketing."
   ]
  },
  {
   "cell_type": "markdown",
   "metadata": {},
   "source": [
    "### ¿Cuánto costó la adquisición de clientes de cada una de las fuentes?"
   ]
  },
  {
   "cell_type": "code",
   "execution_count": 192,
   "metadata": {},
   "outputs": [
    {
     "data": {
      "text/html": [
       "<div>\n",
       "<style scoped>\n",
       "    .dataframe tbody tr th:only-of-type {\n",
       "        vertical-align: middle;\n",
       "    }\n",
       "\n",
       "    .dataframe tbody tr th {\n",
       "        vertical-align: top;\n",
       "    }\n",
       "\n",
       "    .dataframe thead th {\n",
       "        text-align: right;\n",
       "    }\n",
       "</style>\n",
       "<table border=\"1\" class=\"dataframe\">\n",
       "  <thead>\n",
       "    <tr style=\"text-align: right;\">\n",
       "      <th></th>\n",
       "      <th>device</th>\n",
       "      <th>end_ts</th>\n",
       "      <th>source_id</th>\n",
       "      <th>start_ts</th>\n",
       "      <th>uid</th>\n",
       "      <th>day</th>\n",
       "      <th>week</th>\n",
       "      <th>month</th>\n",
       "      <th>date</th>\n",
       "      <th>duracion_seg</th>\n",
       "    </tr>\n",
       "  </thead>\n",
       "  <tbody>\n",
       "    <tr>\n",
       "      <th>0</th>\n",
       "      <td>touch</td>\n",
       "      <td>2017-12-20 17:38:00</td>\n",
       "      <td>4</td>\n",
       "      <td>2017-12-20 17:20:00</td>\n",
       "      <td>16879256277535980062</td>\n",
       "      <td>20</td>\n",
       "      <td>2017-12-14</td>\n",
       "      <td>2017-12-01</td>\n",
       "      <td>2017-12-20</td>\n",
       "      <td>1080</td>\n",
       "    </tr>\n",
       "  </tbody>\n",
       "</table>\n",
       "</div>"
      ],
      "text/plain": [
       "  device              end_ts  source_id            start_ts  \\\n",
       "0  touch 2017-12-20 17:38:00          4 2017-12-20 17:20:00   \n",
       "\n",
       "                    uid  day       week      month       date  duracion_seg  \n",
       "0  16879256277535980062   20 2017-12-14 2017-12-01 2017-12-20          1080  "
      ]
     },
     "execution_count": 192,
     "metadata": {},
     "output_type": "execute_result"
    }
   ],
   "source": [
    "# veamos nuestra tabala de clientes.\n",
    "visits_data.head(1)"
   ]
  },
  {
   "cell_type": "code",
   "execution_count": 193,
   "metadata": {},
   "outputs": [
    {
     "data": {
      "text/html": [
       "<div>\n",
       "<style scoped>\n",
       "    .dataframe tbody tr th:only-of-type {\n",
       "        vertical-align: middle;\n",
       "    }\n",
       "\n",
       "    .dataframe tbody tr th {\n",
       "        vertical-align: top;\n",
       "    }\n",
       "\n",
       "    .dataframe thead th {\n",
       "        text-align: right;\n",
       "    }\n",
       "</style>\n",
       "<table border=\"1\" class=\"dataframe\">\n",
       "  <thead>\n",
       "    <tr style=\"text-align: right;\">\n",
       "      <th></th>\n",
       "      <th>uid</th>\n",
       "      <th>one_session_start</th>\n",
       "    </tr>\n",
       "  </thead>\n",
       "  <tbody>\n",
       "    <tr>\n",
       "      <th>0</th>\n",
       "      <td>11863502262781</td>\n",
       "      <td>2018-03-01 17:27:00</td>\n",
       "    </tr>\n",
       "  </tbody>\n",
       "</table>\n",
       "</div>"
      ],
      "text/plain": [
       "              uid   one_session_start\n",
       "0  11863502262781 2018-03-01 17:27:00"
      ]
     },
     "execution_count": 193,
     "metadata": {},
     "output_type": "execute_result"
    }
   ],
   "source": [
    "# obtenemos para cada usuario la fecha de su primera visita\n",
    "one_visits = visits_data.groupby('uid').agg(one_session_start = ('start_ts','min')).reset_index()\n",
    "one_visits.head(1)"
   ]
  },
  {
   "cell_type": "code",
   "execution_count": 194,
   "metadata": {},
   "outputs": [
    {
     "data": {
      "text/html": [
       "<div>\n",
       "<style scoped>\n",
       "    .dataframe tbody tr th:only-of-type {\n",
       "        vertical-align: middle;\n",
       "    }\n",
       "\n",
       "    .dataframe tbody tr th {\n",
       "        vertical-align: top;\n",
       "    }\n",
       "\n",
       "    .dataframe thead th {\n",
       "        text-align: right;\n",
       "    }\n",
       "</style>\n",
       "<table border=\"1\" class=\"dataframe\">\n",
       "  <thead>\n",
       "    <tr style=\"text-align: right;\">\n",
       "      <th></th>\n",
       "      <th>uid</th>\n",
       "      <th>one_session_start</th>\n",
       "      <th>session_dt</th>\n",
       "      <th>session_month</th>\n",
       "    </tr>\n",
       "  </thead>\n",
       "  <tbody>\n",
       "    <tr>\n",
       "      <th>0</th>\n",
       "      <td>11863502262781</td>\n",
       "      <td>2018-03-01 17:27:00</td>\n",
       "      <td>2018-03-01</td>\n",
       "      <td>2018-03-01</td>\n",
       "    </tr>\n",
       "  </tbody>\n",
       "</table>\n",
       "</div>"
      ],
      "text/plain": [
       "              uid   one_session_start  session_dt session_month\n",
       "0  11863502262781 2018-03-01 17:27:00  2018-03-01    2018-03-01"
      ]
     },
     "execution_count": 194,
     "metadata": {},
     "output_type": "execute_result"
    }
   ],
   "source": [
    "# obtenemos la fecha y el mes de cada primera sesion\n",
    "one_visits['session_dt'] = one_visits['one_session_start'].dt.date\n",
    "one_visits['session_month'] = one_visits['one_session_start'].astype('datetime64[M]')\n",
    "one_visits.head(1)"
   ]
  },
  {
   "cell_type": "code",
   "execution_count": 195,
   "metadata": {},
   "outputs": [
    {
     "data": {
      "text/html": [
       "<div>\n",
       "<style scoped>\n",
       "    .dataframe tbody tr th:only-of-type {\n",
       "        vertical-align: middle;\n",
       "    }\n",
       "\n",
       "    .dataframe tbody tr th {\n",
       "        vertical-align: top;\n",
       "    }\n",
       "\n",
       "    .dataframe thead th {\n",
       "        text-align: right;\n",
       "    }\n",
       "</style>\n",
       "<table border=\"1\" class=\"dataframe\">\n",
       "  <thead>\n",
       "    <tr style=\"text-align: right;\">\n",
       "      <th></th>\n",
       "      <th>device</th>\n",
       "      <th>end_ts</th>\n",
       "      <th>source_id</th>\n",
       "      <th>start_ts</th>\n",
       "      <th>uid</th>\n",
       "      <th>day</th>\n",
       "      <th>week</th>\n",
       "      <th>month</th>\n",
       "      <th>date</th>\n",
       "      <th>duracion_seg</th>\n",
       "      <th>one_session_start</th>\n",
       "      <th>session_dt</th>\n",
       "      <th>session_month</th>\n",
       "    </tr>\n",
       "  </thead>\n",
       "  <tbody>\n",
       "    <tr>\n",
       "      <th>0</th>\n",
       "      <td>touch</td>\n",
       "      <td>2017-12-20 17:38:00</td>\n",
       "      <td>4</td>\n",
       "      <td>2017-12-20 17:20:00</td>\n",
       "      <td>16879256277535980062</td>\n",
       "      <td>20</td>\n",
       "      <td>2017-12-14</td>\n",
       "      <td>2017-12-01</td>\n",
       "      <td>2017-12-20</td>\n",
       "      <td>1080</td>\n",
       "      <td>2017-12-20 17:20:00</td>\n",
       "      <td>2017-12-20</td>\n",
       "      <td>2017-12-01</td>\n",
       "    </tr>\n",
       "  </tbody>\n",
       "</table>\n",
       "</div>"
      ],
      "text/plain": [
       "  device              end_ts  source_id            start_ts  \\\n",
       "0  touch 2017-12-20 17:38:00          4 2017-12-20 17:20:00   \n",
       "\n",
       "                    uid  day       week      month       date  duracion_seg  \\\n",
       "0  16879256277535980062   20 2017-12-14 2017-12-01 2017-12-20          1080   \n",
       "\n",
       "    one_session_start  session_dt session_month  \n",
       "0 2017-12-20 17:20:00  2017-12-20    2017-12-01  "
      ]
     },
     "execution_count": 195,
     "metadata": {},
     "output_type": "execute_result"
    }
   ],
   "source": [
    "# agregamos los datos de las primeras visitas para cada usuario al dataframe de las visitas\n",
    "total_visits = visits_data.merge(one_visits, on='uid')\n",
    "total_visits.head(1)"
   ]
  },
  {
   "cell_type": "code",
   "execution_count": 196,
   "metadata": {},
   "outputs": [
    {
     "data": {
      "text/html": [
       "<div>\n",
       "<style scoped>\n",
       "    .dataframe tbody tr th:only-of-type {\n",
       "        vertical-align: middle;\n",
       "    }\n",
       "\n",
       "    .dataframe tbody tr th {\n",
       "        vertical-align: top;\n",
       "    }\n",
       "\n",
       "    .dataframe thead th {\n",
       "        text-align: right;\n",
       "    }\n",
       "</style>\n",
       "<table border=\"1\" class=\"dataframe\">\n",
       "  <thead>\n",
       "    <tr style=\"text-align: right;\">\n",
       "      <th></th>\n",
       "      <th>device</th>\n",
       "      <th>end_ts</th>\n",
       "      <th>source_id</th>\n",
       "      <th>start_ts</th>\n",
       "      <th>uid</th>\n",
       "      <th>day</th>\n",
       "      <th>week</th>\n",
       "      <th>month</th>\n",
       "      <th>date</th>\n",
       "      <th>duracion_seg</th>\n",
       "      <th>one_session_start</th>\n",
       "      <th>session_dt</th>\n",
       "      <th>session_month</th>\n",
       "      <th>age_month</th>\n",
       "    </tr>\n",
       "  </thead>\n",
       "  <tbody>\n",
       "    <tr>\n",
       "      <th>0</th>\n",
       "      <td>touch</td>\n",
       "      <td>2017-12-20 17:38:00</td>\n",
       "      <td>4</td>\n",
       "      <td>2017-12-20 17:20:00</td>\n",
       "      <td>16879256277535980062</td>\n",
       "      <td>20</td>\n",
       "      <td>2017-12-14</td>\n",
       "      <td>2017-12-01</td>\n",
       "      <td>2017-12-20</td>\n",
       "      <td>1080</td>\n",
       "      <td>2017-12-20 17:20:00</td>\n",
       "      <td>2017-12-20</td>\n",
       "      <td>2017-12-01</td>\n",
       "      <td>0</td>\n",
       "    </tr>\n",
       "  </tbody>\n",
       "</table>\n",
       "</div>"
      ],
      "text/plain": [
       "  device              end_ts  source_id            start_ts  \\\n",
       "0  touch 2017-12-20 17:38:00          4 2017-12-20 17:20:00   \n",
       "\n",
       "                    uid  day       week      month       date  duracion_seg  \\\n",
       "0  16879256277535980062   20 2017-12-14 2017-12-01 2017-12-20          1080   \n",
       "\n",
       "    one_session_start  session_dt session_month  age_month  \n",
       "0 2017-12-20 17:20:00  2017-12-20    2017-12-01          0  "
      ]
     },
     "execution_count": 196,
     "metadata": {},
     "output_type": "execute_result"
    }
   ],
   "source": [
    "# obtenemos la edad en meses entre la visita actual y la primera visita\n",
    "total_visits['age_month'] = ((total_visits['month'] - total_visits['session_month']) / np.timedelta64(1,'M')).round().astype('int')\n",
    "total_visits.head(1)"
   ]
  },
  {
   "cell_type": "code",
   "execution_count": 197,
   "metadata": {},
   "outputs": [
    {
     "data": {
      "text/html": [
       "<div>\n",
       "<style scoped>\n",
       "    .dataframe tbody tr th:only-of-type {\n",
       "        vertical-align: middle;\n",
       "    }\n",
       "\n",
       "    .dataframe tbody tr th {\n",
       "        vertical-align: top;\n",
       "    }\n",
       "\n",
       "    .dataframe thead th {\n",
       "        text-align: right;\n",
       "    }\n",
       "</style>\n",
       "<table border=\"1\" class=\"dataframe\">\n",
       "  <thead>\n",
       "    <tr style=\"text-align: right;\">\n",
       "      <th></th>\n",
       "      <th>buy_ts</th>\n",
       "      <th>revenue</th>\n",
       "      <th>uid</th>\n",
       "      <th>date_buys</th>\n",
       "      <th>month_buys</th>\n",
       "    </tr>\n",
       "  </thead>\n",
       "  <tbody>\n",
       "    <tr>\n",
       "      <th>0</th>\n",
       "      <td>2017-06-01 00:10:00</td>\n",
       "      <td>17.0</td>\n",
       "      <td>10329302124590727494</td>\n",
       "      <td>2017-06-01</td>\n",
       "      <td>2017-06-01</td>\n",
       "    </tr>\n",
       "  </tbody>\n",
       "</table>\n",
       "</div>"
      ],
      "text/plain": [
       "               buy_ts  revenue                   uid  date_buys month_buys\n",
       "0 2017-06-01 00:10:00     17.0  10329302124590727494 2017-06-01 2017-06-01"
      ]
     },
     "execution_count": 197,
     "metadata": {},
     "output_type": "execute_result"
    }
   ],
   "source": [
    "# Veamos el dataframe con los pedidos \n",
    "orders_data.head(1)"
   ]
  },
  {
   "cell_type": "code",
   "execution_count": 198,
   "metadata": {},
   "outputs": [
    {
     "data": {
      "text/html": [
       "<div>\n",
       "<style scoped>\n",
       "    .dataframe tbody tr th:only-of-type {\n",
       "        vertical-align: middle;\n",
       "    }\n",
       "\n",
       "    .dataframe tbody tr th {\n",
       "        vertical-align: top;\n",
       "    }\n",
       "\n",
       "    .dataframe thead th {\n",
       "        text-align: right;\n",
       "    }\n",
       "</style>\n",
       "<table border=\"1\" class=\"dataframe\">\n",
       "  <thead>\n",
       "    <tr style=\"text-align: right;\">\n",
       "      <th></th>\n",
       "      <th>uid</th>\n",
       "      <th>order_ts</th>\n",
       "    </tr>\n",
       "  </thead>\n",
       "  <tbody>\n",
       "    <tr>\n",
       "      <th>0</th>\n",
       "      <td>313578113262317</td>\n",
       "      <td>2018-01-03 21:51:00</td>\n",
       "    </tr>\n",
       "  </tbody>\n",
       "</table>\n",
       "</div>"
      ],
      "text/plain": [
       "               uid            order_ts\n",
       "0  313578113262317 2018-01-03 21:51:00"
      ]
     },
     "execution_count": 198,
     "metadata": {},
     "output_type": "execute_result"
    }
   ],
   "source": [
    "# Vamos a obtener por cada usuario la fecha de su primer pedido\n",
    "one_orders = pedidos.groupby('uid').agg(order_ts = ('buy_ts','min')).reset_index()\n",
    "one_orders.head(1)"
   ]
  },
  {
   "cell_type": "code",
   "execution_count": 199,
   "metadata": {},
   "outputs": [],
   "source": [
    "# para la primera compra realizada vamos a obtener la fecha\n",
    "one_orders['order_for_date'] = one_orders['order_ts'].dt.date\n",
    "one_orders['order_for_month'] = one_orders['order_ts'].astype('datetime64[M]')"
   ]
  },
  {
   "cell_type": "code",
   "execution_count": 200,
   "metadata": {},
   "outputs": [],
   "source": [
    "# crearemos un dataframe que contiene los datos de las primera visitas y las primeras compras\n",
    "one_visit_orders = one_visits.merge(one_orders, on='uid')\n"
   ]
  },
  {
   "cell_type": "code",
   "execution_count": 201,
   "metadata": {},
   "outputs": [
    {
     "data": {
      "text/html": [
       "<div>\n",
       "<style scoped>\n",
       "    .dataframe tbody tr th:only-of-type {\n",
       "        vertical-align: middle;\n",
       "    }\n",
       "\n",
       "    .dataframe tbody tr th {\n",
       "        vertical-align: top;\n",
       "    }\n",
       "\n",
       "    .dataframe thead th {\n",
       "        text-align: right;\n",
       "    }\n",
       "</style>\n",
       "<table border=\"1\" class=\"dataframe\">\n",
       "  <thead>\n",
       "    <tr style=\"text-align: right;\">\n",
       "      <th></th>\n",
       "      <th>uid</th>\n",
       "      <th>one_session_start</th>\n",
       "      <th>session_dt</th>\n",
       "      <th>session_month</th>\n",
       "      <th>order_ts</th>\n",
       "      <th>order_for_date</th>\n",
       "      <th>order_for_month</th>\n",
       "      <th>days_for_purchase</th>\n",
       "    </tr>\n",
       "  </thead>\n",
       "  <tbody>\n",
       "    <tr>\n",
       "      <th>0</th>\n",
       "      <td>313578113262317</td>\n",
       "      <td>2017-09-18 22:49:00</td>\n",
       "      <td>2017-09-18</td>\n",
       "      <td>2017-09-01</td>\n",
       "      <td>2018-01-03 21:51:00</td>\n",
       "      <td>2018-01-03</td>\n",
       "      <td>2018-01-01</td>\n",
       "      <td>106</td>\n",
       "    </tr>\n",
       "  </tbody>\n",
       "</table>\n",
       "</div>"
      ],
      "text/plain": [
       "               uid   one_session_start session_dt session_month  \\\n",
       "0  313578113262317 2017-09-18 22:49:00 2017-09-18    2017-09-01   \n",
       "\n",
       "             order_ts order_for_date order_for_month  days_for_purchase  \n",
       "0 2018-01-03 21:51:00     2018-01-03      2018-01-01                106  "
      ]
     },
     "execution_count": 201,
     "metadata": {},
     "output_type": "execute_result"
    }
   ],
   "source": [
    "# para cada comprador obtenemos los dias entre la primer visita y su primera compra\n",
    "one_visit_orders['order_for_date'] = pd.to_datetime(one_visit_orders['order_for_date'])\n",
    "one_visit_orders['session_dt'] = pd.to_datetime(one_visit_orders['session_dt'])\n",
    "one_visit_orders['days_for_purchase'] = ((one_visit_orders['order_ts'] - one_visit_orders['one_session_start']) / np.timedelta64(1,'D')).astype('int')\n",
    "one_visit_orders.head(1)"
   ]
  },
  {
   "cell_type": "code",
   "execution_count": 202,
   "metadata": {},
   "outputs": [
    {
     "data": {
      "text/html": [
       "<div>\n",
       "<style scoped>\n",
       "    .dataframe tbody tr th:only-of-type {\n",
       "        vertical-align: middle;\n",
       "    }\n",
       "\n",
       "    .dataframe tbody tr th {\n",
       "        vertical-align: top;\n",
       "    }\n",
       "\n",
       "    .dataframe thead th {\n",
       "        text-align: right;\n",
       "    }\n",
       "</style>\n",
       "<table border=\"1\" class=\"dataframe\">\n",
       "  <thead>\n",
       "    <tr style=\"text-align: right;\">\n",
       "      <th></th>\n",
       "      <th>source_id</th>\n",
       "      <th>dt</th>\n",
       "      <th>costs</th>\n",
       "      <th>month_mark</th>\n",
       "    </tr>\n",
       "  </thead>\n",
       "  <tbody>\n",
       "    <tr>\n",
       "      <th>0</th>\n",
       "      <td>1</td>\n",
       "      <td>2017-06-01</td>\n",
       "      <td>75.2</td>\n",
       "      <td>2017-06-01</td>\n",
       "    </tr>\n",
       "  </tbody>\n",
       "</table>\n",
       "</div>"
      ],
      "text/plain": [
       "   source_id         dt  costs month_mark\n",
       "0          1 2017-06-01   75.2 2017-06-01"
      ]
     },
     "execution_count": 202,
     "metadata": {},
     "output_type": "execute_result"
    }
   ],
   "source": [
    "# veamos el dataframe de costos.\n",
    "costs_data.head(1)"
   ]
  },
  {
   "cell_type": "code",
   "execution_count": 203,
   "metadata": {},
   "outputs": [],
   "source": [
    "usuarios = total_visits.sort_values('start_ts').groupby('uid').first()\n",
    "usuarios = usuarios[['source_id']]"
   ]
  },
  {
   "cell_type": "code",
   "execution_count": 204,
   "metadata": {},
   "outputs": [
    {
     "data": {
      "text/html": [
       "<div>\n",
       "<style scoped>\n",
       "    .dataframe tbody tr th:only-of-type {\n",
       "        vertical-align: middle;\n",
       "    }\n",
       "\n",
       "    .dataframe tbody tr th {\n",
       "        vertical-align: top;\n",
       "    }\n",
       "\n",
       "    .dataframe thead th {\n",
       "        text-align: right;\n",
       "    }\n",
       "</style>\n",
       "<table border=\"1\" class=\"dataframe\">\n",
       "  <thead>\n",
       "    <tr style=\"text-align: right;\">\n",
       "      <th></th>\n",
       "      <th>uid</th>\n",
       "      <th>one_session_start</th>\n",
       "      <th>session_dt</th>\n",
       "      <th>session_month</th>\n",
       "      <th>order_ts</th>\n",
       "      <th>order_for_date</th>\n",
       "      <th>order_for_month</th>\n",
       "      <th>days_for_purchase</th>\n",
       "      <th>source_id</th>\n",
       "    </tr>\n",
       "  </thead>\n",
       "  <tbody>\n",
       "    <tr>\n",
       "      <th>0</th>\n",
       "      <td>313578113262317</td>\n",
       "      <td>2017-09-18 22:49:00</td>\n",
       "      <td>2017-09-18</td>\n",
       "      <td>2017-09-01</td>\n",
       "      <td>2018-01-03 21:51:00</td>\n",
       "      <td>2018-01-03</td>\n",
       "      <td>2018-01-01</td>\n",
       "      <td>106</td>\n",
       "      <td>2</td>\n",
       "    </tr>\n",
       "  </tbody>\n",
       "</table>\n",
       "</div>"
      ],
      "text/plain": [
       "               uid   one_session_start session_dt session_month  \\\n",
       "0  313578113262317 2017-09-18 22:49:00 2017-09-18    2017-09-01   \n",
       "\n",
       "             order_ts order_for_date order_for_month  days_for_purchase  \\\n",
       "0 2018-01-03 21:51:00     2018-01-03      2018-01-01                106   \n",
       "\n",
       "   source_id  \n",
       "0          2  "
      ]
     },
     "execution_count": 204,
     "metadata": {},
     "output_type": "execute_result"
    }
   ],
   "source": [
    "one_visit_orders = one_visit_orders.merge(usuarios, on = 'uid')\n",
    "one_visit_orders.head(1)"
   ]
  },
  {
   "cell_type": "code",
   "execution_count": 205,
   "metadata": {},
   "outputs": [
    {
     "data": {
      "text/html": [
       "<div>\n",
       "<style scoped>\n",
       "    .dataframe tbody tr th:only-of-type {\n",
       "        vertical-align: middle;\n",
       "    }\n",
       "\n",
       "    .dataframe tbody tr th {\n",
       "        vertical-align: top;\n",
       "    }\n",
       "\n",
       "    .dataframe thead th {\n",
       "        text-align: right;\n",
       "    }\n",
       "</style>\n",
       "<table border=\"1\" class=\"dataframe\">\n",
       "  <thead>\n",
       "    <tr style=\"text-align: right;\">\n",
       "      <th></th>\n",
       "      <th>source_id</th>\n",
       "      <th>order_for_month</th>\n",
       "      <th>n_buys</th>\n",
       "    </tr>\n",
       "  </thead>\n",
       "  <tbody>\n",
       "    <tr>\n",
       "      <th>0</th>\n",
       "      <td>1</td>\n",
       "      <td>2017-06-01</td>\n",
       "      <td>190</td>\n",
       "    </tr>\n",
       "  </tbody>\n",
       "</table>\n",
       "</div>"
      ],
      "text/plain": [
       "   source_id order_for_month  n_buys\n",
       "0          1      2017-06-01     190"
      ]
     },
     "execution_count": 205,
     "metadata": {},
     "output_type": "execute_result"
    }
   ],
   "source": [
    "# usando el dataframe 'buyers' vamos a calcular el numero de compradores para cada 'source_id' y fecha de la primera compra\n",
    "orders_visit = one_visit_orders.groupby(['source_id', 'order_for_month']).agg(n_buys = ('uid','count')).reset_index()\n",
    "orders_visit['order_for_month'] = pd.to_datetime(orders_visit['order_for_month'])\n",
    "orders_visit.head(1)"
   ]
  },
  {
   "cell_type": "code",
   "execution_count": 207,
   "metadata": {},
   "outputs": [
    {
     "data": {
      "text/html": [
       "<div>\n",
       "<style scoped>\n",
       "    .dataframe tbody tr th:only-of-type {\n",
       "        vertical-align: middle;\n",
       "    }\n",
       "\n",
       "    .dataframe tbody tr th {\n",
       "        vertical-align: top;\n",
       "    }\n",
       "\n",
       "    .dataframe thead th {\n",
       "        text-align: right;\n",
       "    }\n",
       "</style>\n",
       "<table border=\"1\" class=\"dataframe\">\n",
       "  <thead>\n",
       "    <tr style=\"text-align: right;\">\n",
       "      <th></th>\n",
       "      <th>cac</th>\n",
       "    </tr>\n",
       "    <tr>\n",
       "      <th>source_id</th>\n",
       "      <th></th>\n",
       "    </tr>\n",
       "  </thead>\n",
       "  <tbody>\n",
       "    <tr>\n",
       "      <th>3</th>\n",
       "      <td>0.5</td>\n",
       "    </tr>\n",
       "    <tr>\n",
       "      <th>2</th>\n",
       "      <td>0.4</td>\n",
       "    </tr>\n",
       "    <tr>\n",
       "      <th>1</th>\n",
       "      <td>0.2</td>\n",
       "    </tr>\n",
       "    <tr>\n",
       "      <th>5</th>\n",
       "      <td>0.2</td>\n",
       "    </tr>\n",
       "    <tr>\n",
       "      <th>9</th>\n",
       "      <td>0.2</td>\n",
       "    </tr>\n",
       "    <tr>\n",
       "      <th>10</th>\n",
       "      <td>0.2</td>\n",
       "    </tr>\n",
       "    <tr>\n",
       "      <th>4</th>\n",
       "      <td>0.1</td>\n",
       "    </tr>\n",
       "  </tbody>\n",
       "</table>\n",
       "</div>"
      ],
      "text/plain": [
       "           cac\n",
       "source_id     \n",
       "3          0.5\n",
       "2          0.4\n",
       "1          0.2\n",
       "5          0.2\n",
       "9          0.2\n",
       "10         0.2\n",
       "4          0.1"
      ]
     },
     "execution_count": 207,
     "metadata": {},
     "output_type": "execute_result"
    }
   ],
   "source": [
    "# unimos ahora los costos de marketing con \n",
    "costs_for_marketing = pd.merge(orders_visit, costs_data, left_on =['source_id', 'order_for_month'], right_on =['source_id', 'dt'])\n",
    "costs_for_marketing['cac'] = costs_for_marketing['costs'] / costs_for_marketing['n_buys']\n",
    "costs_for_marketing.groupby('source_id').agg({'cac': 'mean'}).round(1).sort_values(by = 'cac', ascending=False)"
   ]
  },
  {
   "cell_type": "code",
   "execution_count": 218,
   "metadata": {},
   "outputs": [
    {
     "data": {
      "text/html": [
       "<div>\n",
       "<style scoped>\n",
       "    .dataframe tbody tr th:only-of-type {\n",
       "        vertical-align: middle;\n",
       "    }\n",
       "\n",
       "    .dataframe tbody tr th {\n",
       "        vertical-align: top;\n",
       "    }\n",
       "\n",
       "    .dataframe thead th {\n",
       "        text-align: right;\n",
       "    }\n",
       "</style>\n",
       "<table border=\"1\" class=\"dataframe\">\n",
       "  <thead>\n",
       "    <tr style=\"text-align: right;\">\n",
       "      <th></th>\n",
       "      <th>source_id</th>\n",
       "      <th>order_for_date</th>\n",
       "      <th>n_buys</th>\n",
       "    </tr>\n",
       "  </thead>\n",
       "  <tbody>\n",
       "    <tr>\n",
       "      <th>0</th>\n",
       "      <td>1</td>\n",
       "      <td>2017-06-01</td>\n",
       "      <td>14</td>\n",
       "    </tr>\n",
       "  </tbody>\n",
       "</table>\n",
       "</div>"
      ],
      "text/plain": [
       "   source_id order_for_date  n_buys\n",
       "0          1     2017-06-01      14"
      ]
     },
     "execution_count": 218,
     "metadata": {},
     "output_type": "execute_result"
    }
   ],
   "source": [
    "orders_visit = one_visit_orders.groupby(['source_id', 'order_for_date']).agg(n_buys = ('uid','count')).reset_index()\n",
    "orders_visit['order_for_date'] = pd.to_datetime(orders_visit['order_for_date'])\n",
    "orders_visit.head(1)"
   ]
  },
  {
   "cell_type": "code",
   "execution_count": 219,
   "metadata": {},
   "outputs": [
    {
     "data": {
      "text/html": [
       "<div>\n",
       "<style scoped>\n",
       "    .dataframe tbody tr th:only-of-type {\n",
       "        vertical-align: middle;\n",
       "    }\n",
       "\n",
       "    .dataframe tbody tr th {\n",
       "        vertical-align: top;\n",
       "    }\n",
       "\n",
       "    .dataframe thead th {\n",
       "        text-align: right;\n",
       "    }\n",
       "</style>\n",
       "<table border=\"1\" class=\"dataframe\">\n",
       "  <thead>\n",
       "    <tr style=\"text-align: right;\">\n",
       "      <th></th>\n",
       "      <th>cac</th>\n",
       "    </tr>\n",
       "    <tr>\n",
       "      <th>source_id</th>\n",
       "      <th></th>\n",
       "    </tr>\n",
       "  </thead>\n",
       "  <tbody>\n",
       "    <tr>\n",
       "      <th>2</th>\n",
       "      <td>16.3</td>\n",
       "    </tr>\n",
       "    <tr>\n",
       "      <th>3</th>\n",
       "      <td>15.6</td>\n",
       "    </tr>\n",
       "    <tr>\n",
       "      <th>1</th>\n",
       "      <td>9.5</td>\n",
       "    </tr>\n",
       "    <tr>\n",
       "      <th>5</th>\n",
       "      <td>8.3</td>\n",
       "    </tr>\n",
       "    <tr>\n",
       "      <th>4</th>\n",
       "      <td>7.3</td>\n",
       "    </tr>\n",
       "    <tr>\n",
       "      <th>9</th>\n",
       "      <td>6.8</td>\n",
       "    </tr>\n",
       "    <tr>\n",
       "      <th>10</th>\n",
       "      <td>6.6</td>\n",
       "    </tr>\n",
       "  </tbody>\n",
       "</table>\n",
       "</div>"
      ],
      "text/plain": [
       "            cac\n",
       "source_id      \n",
       "2          16.3\n",
       "3          15.6\n",
       "1           9.5\n",
       "5           8.3\n",
       "4           7.3\n",
       "9           6.8\n",
       "10          6.6"
      ]
     },
     "execution_count": 219,
     "metadata": {},
     "output_type": "execute_result"
    }
   ],
   "source": [
    "costs_for_marketing = pd.merge(orders_visit, costs_data, left_on =['source_id', 'order_for_date'], right_on =['source_id', 'dt'])\n",
    "costs_for_marketing['cac'] = costs_for_marketing['costs'] / costs_for_marketing['n_buys']\n",
    "costs_for_marketing.groupby('source_id').agg({'cac': 'mean'}).round(1).sort_values(by = 'cac', ascending=False)"
   ]
  },
  {
   "cell_type": "markdown",
   "metadata": {},
   "source": [
    "**conclusión intermedia**\n",
    "- Las fuentes 2 y 3, son las fuentes con los costos por clientes más altos, mientras que las fuentes 9 y 10 son las que tienen los costos por clientes más bajos."
   ]
  },
  {
   "cell_type": "markdown",
   "metadata": {},
   "source": [
    "### ¿Cuán rentables eran las inversiones? (ROMI)"
   ]
  },
  {
   "cell_type": "code",
   "execution_count": 231,
   "metadata": {},
   "outputs": [
    {
     "data": {
      "text/html": [
       "<div>\n",
       "<style scoped>\n",
       "    .dataframe tbody tr th:only-of-type {\n",
       "        vertical-align: middle;\n",
       "    }\n",
       "\n",
       "    .dataframe tbody tr th {\n",
       "        vertical-align: top;\n",
       "    }\n",
       "\n",
       "    .dataframe thead th {\n",
       "        text-align: right;\n",
       "    }\n",
       "</style>\n",
       "<table border=\"1\" class=\"dataframe\">\n",
       "  <thead>\n",
       "    <tr style=\"text-align: right;\">\n",
       "      <th></th>\n",
       "      <th>source_id</th>\n",
       "      <th>order_for_date</th>\n",
       "      <th>n_buys</th>\n",
       "      <th>dt</th>\n",
       "      <th>costs</th>\n",
       "      <th>month_mark</th>\n",
       "      <th>cac</th>\n",
       "    </tr>\n",
       "  </thead>\n",
       "  <tbody>\n",
       "    <tr>\n",
       "      <th>0</th>\n",
       "      <td>1</td>\n",
       "      <td>2017-06-01</td>\n",
       "      <td>14</td>\n",
       "      <td>2017-06-01</td>\n",
       "      <td>75.2</td>\n",
       "      <td>2017-06-01</td>\n",
       "      <td>5.371429</td>\n",
       "    </tr>\n",
       "  </tbody>\n",
       "</table>\n",
       "</div>"
      ],
      "text/plain": [
       "   source_id order_for_date  n_buys         dt  costs month_mark       cac\n",
       "0          1     2017-06-01      14 2017-06-01   75.2 2017-06-01  5.371429"
      ]
     },
     "execution_count": 231,
     "metadata": {},
     "output_type": "execute_result"
    }
   ],
   "source": [
    "costs_for_marketing.head(1)"
   ]
  },
  {
   "cell_type": "code",
   "execution_count": 232,
   "metadata": {},
   "outputs": [
    {
     "data": {
      "text/html": [
       "<div>\n",
       "<style scoped>\n",
       "    .dataframe tbody tr th:only-of-type {\n",
       "        vertical-align: middle;\n",
       "    }\n",
       "\n",
       "    .dataframe tbody tr th {\n",
       "        vertical-align: top;\n",
       "    }\n",
       "\n",
       "    .dataframe thead th {\n",
       "        text-align: right;\n",
       "    }\n",
       "</style>\n",
       "<table border=\"1\" class=\"dataframe\">\n",
       "  <thead>\n",
       "    <tr style=\"text-align: right;\">\n",
       "      <th></th>\n",
       "      <th>buy_ts</th>\n",
       "      <th>revenue</th>\n",
       "      <th>uid</th>\n",
       "      <th>date_buys</th>\n",
       "      <th>month_buys</th>\n",
       "      <th>source_id</th>\n",
       "    </tr>\n",
       "  </thead>\n",
       "  <tbody>\n",
       "    <tr>\n",
       "      <th>0</th>\n",
       "      <td>2017-06-01 00:10:00</td>\n",
       "      <td>17.0</td>\n",
       "      <td>10329302124590727494</td>\n",
       "      <td>2017-06-01</td>\n",
       "      <td>2017-06-01</td>\n",
       "      <td>1</td>\n",
       "    </tr>\n",
       "  </tbody>\n",
       "</table>\n",
       "</div>"
      ],
      "text/plain": [
       "               buy_ts  revenue                   uid  date_buys month_buys  \\\n",
       "0 2017-06-01 00:10:00     17.0  10329302124590727494 2017-06-01 2017-06-01   \n",
       "\n",
       "   source_id  \n",
       "0          1  "
      ]
     },
     "execution_count": 232,
     "metadata": {},
     "output_type": "execute_result"
    }
   ],
   "source": [
    "orders_source = orders_data.merge(usuarios, on='uid')\n",
    "orders_source.head(1)"
   ]
  },
  {
   "cell_type": "code",
   "execution_count": 233,
   "metadata": {},
   "outputs": [
    {
     "data": {
      "text/html": [
       "<div>\n",
       "<style scoped>\n",
       "    .dataframe tbody tr th:only-of-type {\n",
       "        vertical-align: middle;\n",
       "    }\n",
       "\n",
       "    .dataframe tbody tr th {\n",
       "        vertical-align: top;\n",
       "    }\n",
       "\n",
       "    .dataframe thead th {\n",
       "        text-align: right;\n",
       "    }\n",
       "</style>\n",
       "<table border=\"1\" class=\"dataframe\">\n",
       "  <thead>\n",
       "    <tr style=\"text-align: right;\">\n",
       "      <th></th>\n",
       "      <th>order_for_month</th>\n",
       "    </tr>\n",
       "    <tr>\n",
       "      <th>uid</th>\n",
       "      <th></th>\n",
       "    </tr>\n",
       "  </thead>\n",
       "  <tbody>\n",
       "    <tr>\n",
       "      <th>313578113262317</th>\n",
       "      <td>2018-01-01</td>\n",
       "    </tr>\n",
       "  </tbody>\n",
       "</table>\n",
       "</div>"
      ],
      "text/plain": [
       "                order_for_month\n",
       "uid                            \n",
       "313578113262317      2018-01-01"
      ]
     },
     "execution_count": 233,
     "metadata": {},
     "output_type": "execute_result"
    }
   ],
   "source": [
    "# obtengamos la fecha de la primera compra\n",
    "order_dt = orders_source.groupby('uid').agg(order_for_month = ('month_buys','min'))\n",
    "order_dt.head(1)"
   ]
  },
  {
   "cell_type": "code",
   "execution_count": 234,
   "metadata": {},
   "outputs": [
    {
     "data": {
      "text/html": [
       "<div>\n",
       "<style scoped>\n",
       "    .dataframe tbody tr th:only-of-type {\n",
       "        vertical-align: middle;\n",
       "    }\n",
       "\n",
       "    .dataframe tbody tr th {\n",
       "        vertical-align: top;\n",
       "    }\n",
       "\n",
       "    .dataframe thead th {\n",
       "        text-align: right;\n",
       "    }\n",
       "</style>\n",
       "<table border=\"1\" class=\"dataframe\">\n",
       "  <thead>\n",
       "    <tr style=\"text-align: right;\">\n",
       "      <th></th>\n",
       "      <th>buy_ts</th>\n",
       "      <th>revenue</th>\n",
       "      <th>uid</th>\n",
       "      <th>date_buys</th>\n",
       "      <th>month_buys</th>\n",
       "      <th>source_id</th>\n",
       "      <th>order_for_month</th>\n",
       "    </tr>\n",
       "  </thead>\n",
       "  <tbody>\n",
       "    <tr>\n",
       "      <th>0</th>\n",
       "      <td>2017-06-01 00:10:00</td>\n",
       "      <td>17.0</td>\n",
       "      <td>10329302124590727494</td>\n",
       "      <td>2017-06-01</td>\n",
       "      <td>2017-06-01</td>\n",
       "      <td>1</td>\n",
       "      <td>2017-06-01</td>\n",
       "    </tr>\n",
       "  </tbody>\n",
       "</table>\n",
       "</div>"
      ],
      "text/plain": [
       "               buy_ts  revenue                   uid  date_buys month_buys  \\\n",
       "0 2017-06-01 00:10:00     17.0  10329302124590727494 2017-06-01 2017-06-01   \n",
       "\n",
       "   source_id order_for_month  \n",
       "0          1      2017-06-01  "
      ]
     },
     "execution_count": 234,
     "metadata": {},
     "output_type": "execute_result"
    }
   ],
   "source": [
    "# unimos la  fecha de la primera compra al dataframe orders_user\n",
    "orders_source = orders_source.merge(order_dt, on='uid')\n",
    "orders_source.head(1)"
   ]
  },
  {
   "cell_type": "code",
   "execution_count": 235,
   "metadata": {},
   "outputs": [
    {
     "data": {
      "text/html": [
       "<div>\n",
       "<style scoped>\n",
       "    .dataframe tbody tr th:only-of-type {\n",
       "        vertical-align: middle;\n",
       "    }\n",
       "\n",
       "    .dataframe tbody tr th {\n",
       "        vertical-align: top;\n",
       "    }\n",
       "\n",
       "    .dataframe thead th {\n",
       "        text-align: right;\n",
       "    }\n",
       "</style>\n",
       "<table border=\"1\" class=\"dataframe\">\n",
       "  <thead>\n",
       "    <tr style=\"text-align: right;\">\n",
       "      <th></th>\n",
       "      <th>source_id</th>\n",
       "      <th>order_for_month</th>\n",
       "      <th>revenue</th>\n",
       "    </tr>\n",
       "  </thead>\n",
       "  <tbody>\n",
       "    <tr>\n",
       "      <th>0</th>\n",
       "      <td>1</td>\n",
       "      <td>2017-06-01</td>\n",
       "      <td>6392.39</td>\n",
       "    </tr>\n",
       "  </tbody>\n",
       "</table>\n",
       "</div>"
      ],
      "text/plain": [
       "   source_id order_for_month  revenue\n",
       "0          1      2017-06-01  6392.39"
      ]
     },
     "execution_count": 235,
     "metadata": {},
     "output_type": "execute_result"
    }
   ],
   "source": [
    "# obtenemos las ventas para cada tipo de fuente segun la fecha de compra\n",
    "source = orders_source.groupby(['source_id', 'order_for_month']).agg(revenue =('revenue','sum')).reset_index()\n",
    "source.head(1)"
   ]
  },
  {
   "cell_type": "code",
   "execution_count": 237,
   "metadata": {},
   "outputs": [
    {
     "data": {
      "text/plain": [
       "count                               86\n",
       "mean     2017-11-16 15:20:55.813953536\n",
       "min                2017-06-01 00:00:00\n",
       "25%                2017-08-08 18:00:00\n",
       "50%                2017-11-16 00:00:00\n",
       "75%                2018-02-22 00:00:00\n",
       "max                2018-06-01 00:00:00\n",
       "Name: order_for_month, dtype: object"
      ]
     },
     "execution_count": 237,
     "metadata": {},
     "output_type": "execute_result"
    }
   ],
   "source": [
    "# revisamos el tamaño de 'revenue_source' y las caracteristicas de la columna 'order_for_date'\n",
    "source['order_for_month'].describe(datetime_is_numeric=True)"
   ]
  },
  {
   "cell_type": "raw",
   "metadata": {},
   "source": [
    "grouped = costs_for_marketing.merge(source, on=['source_id', 'order_for_month'])\n",
    "grouped.head(1)"
   ]
  },
  {
   "cell_type": "code",
   "execution_count": 240,
   "metadata": {},
   "outputs": [
    {
     "data": {
      "text/plain": [
       "count                             2433\n",
       "mean     2017-11-15 10:16:43.205918720\n",
       "min                2017-06-01 00:00:00\n",
       "25%                2017-09-01 00:00:00\n",
       "50%                2017-11-01 00:00:00\n",
       "75%                2018-02-01 00:00:00\n",
       "max                2018-05-01 00:00:00\n",
       "Name: order_for_month, dtype: object"
      ]
     },
     "execution_count": 240,
     "metadata": {},
     "output_type": "execute_result"
    }
   ],
   "source": [
    "# agruparemos por fuente y obtenemos las ventas totales y los costos de marketing\n",
    "grouped['order_for_month'].describe(datetime_is_numeric=True)"
   ]
  },
  {
   "cell_type": "code",
   "execution_count": 241,
   "metadata": {},
   "outputs": [
    {
     "data": {
      "text/html": [
       "<div>\n",
       "<style scoped>\n",
       "    .dataframe tbody tr th:only-of-type {\n",
       "        vertical-align: middle;\n",
       "    }\n",
       "\n",
       "    .dataframe tbody tr th {\n",
       "        vertical-align: top;\n",
       "    }\n",
       "\n",
       "    .dataframe thead th {\n",
       "        text-align: right;\n",
       "    }\n",
       "</style>\n",
       "<table border=\"1\" class=\"dataframe\">\n",
       "  <thead>\n",
       "    <tr style=\"text-align: right;\">\n",
       "      <th></th>\n",
       "      <th>total_revenue</th>\n",
       "      <th>total_costs</th>\n",
       "    </tr>\n",
       "    <tr>\n",
       "      <th>source_id</th>\n",
       "      <th></th>\n",
       "      <th></th>\n",
       "    </tr>\n",
       "  </thead>\n",
       "  <tbody>\n",
       "    <tr>\n",
       "      <th>1</th>\n",
       "      <td>933026.76</td>\n",
       "      <td>20785.41</td>\n",
       "    </tr>\n",
       "    <tr>\n",
       "      <th>2</th>\n",
       "      <td>1429009.55</td>\n",
       "      <td>42777.37</td>\n",
       "    </tr>\n",
       "    <tr>\n",
       "      <th>3</th>\n",
       "      <td>1648885.41</td>\n",
       "      <td>141321.63</td>\n",
       "    </tr>\n",
       "    <tr>\n",
       "      <th>4</th>\n",
       "      <td>1708426.43</td>\n",
       "      <td>61057.91</td>\n",
       "    </tr>\n",
       "    <tr>\n",
       "      <th>5</th>\n",
       "      <td>1592598.00</td>\n",
       "      <td>51756.40</td>\n",
       "    </tr>\n",
       "    <tr>\n",
       "      <th>9</th>\n",
       "      <td>149325.21</td>\n",
       "      <td>4775.16</td>\n",
       "    </tr>\n",
       "    <tr>\n",
       "      <th>10</th>\n",
       "      <td>122703.96</td>\n",
       "      <td>5351.94</td>\n",
       "    </tr>\n",
       "  </tbody>\n",
       "</table>\n",
       "</div>"
      ],
      "text/plain": [
       "           total_revenue  total_costs\n",
       "source_id                            \n",
       "1              933026.76     20785.41\n",
       "2             1429009.55     42777.37\n",
       "3             1648885.41    141321.63\n",
       "4             1708426.43     61057.91\n",
       "5             1592598.00     51756.40\n",
       "9              149325.21      4775.16\n",
       "10             122703.96      5351.94"
      ]
     },
     "execution_count": 241,
     "metadata": {},
     "output_type": "execute_result"
    }
   ],
   "source": [
    "grouped_source = grouped.groupby('source_id').agg(total_revenue= ('revenue','sum'), total_costs=('costs','sum'))\n",
    "grouped_source"
   ]
  },
  {
   "cell_type": "code",
   "execution_count": 242,
   "metadata": {},
   "outputs": [
    {
     "data": {
      "text/html": [
       "<div>\n",
       "<style scoped>\n",
       "    .dataframe tbody tr th:only-of-type {\n",
       "        vertical-align: middle;\n",
       "    }\n",
       "\n",
       "    .dataframe tbody tr th {\n",
       "        vertical-align: top;\n",
       "    }\n",
       "\n",
       "    .dataframe thead th {\n",
       "        text-align: right;\n",
       "    }\n",
       "</style>\n",
       "<table border=\"1\" class=\"dataframe\">\n",
       "  <thead>\n",
       "    <tr style=\"text-align: right;\">\n",
       "      <th></th>\n",
       "      <th>total_revenue</th>\n",
       "      <th>total_costs</th>\n",
       "      <th>romi</th>\n",
       "    </tr>\n",
       "    <tr>\n",
       "      <th>source_id</th>\n",
       "      <th></th>\n",
       "      <th></th>\n",
       "      <th></th>\n",
       "    </tr>\n",
       "  </thead>\n",
       "  <tbody>\n",
       "    <tr>\n",
       "      <th>1</th>\n",
       "      <td>933026.76</td>\n",
       "      <td>20785.41</td>\n",
       "      <td>44.888542</td>\n",
       "    </tr>\n",
       "    <tr>\n",
       "      <th>2</th>\n",
       "      <td>1429009.55</td>\n",
       "      <td>42777.37</td>\n",
       "      <td>33.405736</td>\n",
       "    </tr>\n",
       "    <tr>\n",
       "      <th>3</th>\n",
       "      <td>1648885.41</td>\n",
       "      <td>141321.63</td>\n",
       "      <td>11.667608</td>\n",
       "    </tr>\n",
       "    <tr>\n",
       "      <th>4</th>\n",
       "      <td>1708426.43</td>\n",
       "      <td>61057.91</td>\n",
       "      <td>27.980428</td>\n",
       "    </tr>\n",
       "    <tr>\n",
       "      <th>5</th>\n",
       "      <td>1592598.00</td>\n",
       "      <td>51756.40</td>\n",
       "      <td>30.771035</td>\n",
       "    </tr>\n",
       "    <tr>\n",
       "      <th>9</th>\n",
       "      <td>149325.21</td>\n",
       "      <td>4775.16</td>\n",
       "      <td>31.271247</td>\n",
       "    </tr>\n",
       "    <tr>\n",
       "      <th>10</th>\n",
       "      <td>122703.96</td>\n",
       "      <td>5351.94</td>\n",
       "      <td>22.927006</td>\n",
       "    </tr>\n",
       "  </tbody>\n",
       "</table>\n",
       "</div>"
      ],
      "text/plain": [
       "           total_revenue  total_costs       romi\n",
       "source_id                                       \n",
       "1              933026.76     20785.41  44.888542\n",
       "2             1429009.55     42777.37  33.405736\n",
       "3             1648885.41    141321.63  11.667608\n",
       "4             1708426.43     61057.91  27.980428\n",
       "5             1592598.00     51756.40  30.771035\n",
       "9              149325.21      4775.16  31.271247\n",
       "10             122703.96      5351.94  22.927006"
      ]
     },
     "execution_count": 242,
     "metadata": {},
     "output_type": "execute_result"
    }
   ],
   "source": [
    "# calculamos el 'romi' por fuente según lo anterior\n",
    "grouped_source['romi'] = grouped_source['total_revenue'] / grouped_source['total_costs']\n",
    "grouped_source"
   ]
  },
  {
   "cell_type": "code",
   "execution_count": 243,
   "metadata": {},
   "outputs": [
    {
     "data": {
      "image/png": "[encoded data removed]",
      "text/plain": [
       "<Figure size 432x576 with 2 Axes>"
      ]
     },
     "metadata": {
      "needs_background": "light"
     },
     "output_type": "display_data"
    }
   ],
   "source": [
    "# crearemos un heatmap para observar mejor.\n",
    "plt.figure(figsize=(6,8))\n",
    "plt.title('ROMI por tipo de fuente')\n",
    "ax = sns.heatmap(grouped_source[['romi']], annot=True, fmt='.2f', linecolor='black', linewidths=1)\n",
    "plt.show()"
   ]
  },
  {
   "cell_type": "markdown",
   "metadata": {},
   "source": [
    "## Conclusión.\n",
    "- tenemos que la aplicación es usada\n",
    "    - diariamente por 908 personas (DAU)\n",
    "    - semanalmente por 5.725 personas (WAU)\n",
    "    - mensualmente por 23,229 personas (MAU).\n",
    "    \n",
    "- La aplicación la inician\n",
    "    - diariamente 988 sesiones\n",
    "    - semanalmente 6,782 sesiones\n",
    "    - mensualmente 29,950 sesiones.\n",
    "    \n",
    "- La duración promedio de una sesión es de 60 segundos. \n",
    "- El factor de adherencia nos indica que un 16% de los usuarios vuelven a usar la aplicación semanalmente y que mensualmente un 4%.\n",
    "- En promedio transcurren diecisiete días entre que un usuario se registra a la plataforma y su primer pedido.\n",
    "- El 75% de los pedidos se realizan en los primeros cuatro días después que un usuario se registra\n",
    "- Los usuarios que realizan su primera compra el mismo día de su registro realizan aproximadamente un 64% de las compras. El 25% de las compras es realizada por los usuarios que realizan su primera compra después de cuatro días de su registro. Mientras que las usuarios que realizan su primera compra entre el primer y cuarta día posterior a su registro, son solo el 11% de las compras.\n",
    "- Del mes de septiembre del 2017 a mayo del 2018 son los meses donde hubo una gran cantidad de compras. Mientras que de junio a agosto del 2017 se registro la menor cantidad de compras.\n",
    "- El total de las ventas mensuales por cohorte es mayor para los usuarios cuya primera compra la realizaron el mismo dia de su registro. Estas ventas representan el 64% de las ventas realizadas y un 58% del volumen de las ventas totales.\n",
    "- s cohortes mensuales más antiguas tuvieron pocos compradores, las cohortes intermedias mostraron un incremento y las cohortes más recientes muestran una disminución en la cantidad de compradores.\n",
    "- la fuente tipo '3' tuvo el mayor gasto en marketing\n",
    "- Las fuentes tipo '9' y '10' son las fuentes con los menores gastos. \n",
    "- En cuanto a los gastos mensuales, de los meses de octubre de 2017 a marzo del 2018 se hicieron los mayores gastos en marketing.\n",
    "- Los tipos de fuentes: 2 y 3, son las fuentes con los costos por cliente más altos, mientras que las fuentes tipo 9 y 10 son las que tienen los costos por cliente más bajos.\n",
    "- Hasta el momento las inversiones en marketing no han sido rentables para los tipos de fuentes 3, 4 y 10. Para los tipos de fuentes 1, 2, 5 y 9, las inversiones en marketing ya son rentables. Siendo la fuente tipo 1 la de mayor rentabilidad."
   ]
  }
 ],
 "metadata": {
  "kernelspec": {
   "display_name": "Python 3 (ipykernel)",
   "language": "python",
   "name": "python3"
  },
  "language_info": {
   "codemirror_mode": {
    "name": "ipython",
    "version": 3
   },
   "file_extension": ".py",
   "mimetype": "text/x-python",
   "name": "python",
   "nbconvert_exporter": "python",
   "pygments_lexer": "ipython3",
   "version": "3.9.5"
  },
  "toc": {
   "base_numbering": 1,
   "nav_menu": {},
   "number_sections": true,
   "sideBar": true,
   "skip_h1_title": true,
   "title_cell": "Table of Contents",
   "title_sidebar": "Contents",
   "toc_cell": false,
   "toc_position": {
    "height": "calc(100% - 180px)",
    "left": "10px",
    "top": "150px",
    "width": "239.797px"
   },
   "toc_section_display": true,
   "toc_window_display": true
  }
 },
 "nbformat": 4,
 "nbformat_minor": 2
}
